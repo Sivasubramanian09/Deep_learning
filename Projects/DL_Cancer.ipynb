{
 "cells": [
  {
   "cell_type": "code",
   "execution_count": null,
   "id": "d5212095-d1b4-4856-8030-6316cfb850b0",
   "metadata": {},
   "outputs": [],
   "source": [
    "#Breast cancer Prediction using Pytorch"
   ]
  },
  {
   "cell_type": "code",
   "execution_count": 100,
   "id": "758fd623-84e2-46ba-9bf0-4679c61c08ae",
   "metadata": {},
   "outputs": [],
   "source": [
    "import torch\n",
    "import torch.nn as nn\n",
    "import torch.optim as optim\n",
    "from sklearn.datasets import load_breast_cancer\n",
    "from sklearn.model_selection import train_test_split\n",
    "from sklearn.preprocessing import StandardScaler"
   ]
  },
  {
   "cell_type": "code",
   "execution_count": 101,
   "id": "606390fd-18e0-4174-a56a-fa19b3b847e1",
   "metadata": {},
   "outputs": [
    {
     "name": "stdout",
     "output_type": "stream",
     "text": [
      "cpu\n"
     ]
    }
   ],
   "source": [
    "#Check for CUDA availability\n",
    "device = torch.device(\"cuda\" if torch.cuda.is_available() else 'cpu')\n",
    "print(device)"
   ]
  },
  {
   "cell_type": "code",
   "execution_count": 102,
   "id": "11f73256-a968-4857-970f-0e8b277de38a",
   "metadata": {},
   "outputs": [],
   "source": [
    "#Data Collection and Data Preprocessing\n"
   ]
  },
  {
   "cell_type": "code",
   "execution_count": 103,
   "id": "aa1fd848-d008-4741-9e65-38efe3798a6b",
   "metadata": {},
   "outputs": [],
   "source": [
    "#loading the breast cancer dataset\n",
    "data = load_breast_cancer()"
   ]
  },
  {
   "cell_type": "code",
   "execution_count": 104,
   "id": "9661bd8f-eb91-482a-9512-87bb15ca1acb",
   "metadata": {},
   "outputs": [],
   "source": [
    "X= data.data\n",
    "y= data.target"
   ]
  },
  {
   "cell_type": "code",
   "execution_count": 105,
   "id": "d4c08228-f4ff-4ce4-adb2-073d97745bd8",
   "metadata": {},
   "outputs": [
    {
     "name": "stdout",
     "output_type": "stream",
     "text": [
      "[[1.799e+01 1.038e+01 1.228e+02 ... 2.654e-01 4.601e-01 1.189e-01]\n",
      " [2.057e+01 1.777e+01 1.329e+02 ... 1.860e-01 2.750e-01 8.902e-02]\n",
      " [1.969e+01 2.125e+01 1.300e+02 ... 2.430e-01 3.613e-01 8.758e-02]\n",
      " ...\n",
      " [1.660e+01 2.808e+01 1.083e+02 ... 1.418e-01 2.218e-01 7.820e-02]\n",
      " [2.060e+01 2.933e+01 1.401e+02 ... 2.650e-01 4.087e-01 1.240e-01]\n",
      " [7.760e+00 2.454e+01 4.792e+01 ... 0.000e+00 2.871e-01 7.039e-02]]\n"
     ]
    }
   ],
   "source": [
    "print(X)"
   ]
  },
  {
   "cell_type": "code",
   "execution_count": 107,
   "id": "0050fb5e-804b-4bfb-9ad7-e0a928755344",
   "metadata": {},
   "outputs": [
    {
     "name": "stdout",
     "output_type": "stream",
     "text": [
      "[0 0 0 0 0 0 0 0 0 0 0 0 0 0 0 0 0 0 0 1 1 1 0 0 0 0 0 0 0 0 0 0 0 0 0 0 0\n",
      " 1 0 0 0 0 0 0 0 0 1 0 1 1 1 1 1 0 0 1 0 0 1 1 1 1 0 1 0 0 1 1 1 1 0 1 0 0\n",
      " 1 0 1 0 0 1 1 1 0 0 1 0 0 0 1 1 1 0 1 1 0 0 1 1 1 0 0 1 1 1 1 0 1 1 0 1 1\n",
      " 1 1 1 1 1 1 0 0 0 1 0 0 1 1 1 0 0 1 0 1 0 0 1 0 0 1 1 0 1 1 0 1 1 1 1 0 1\n",
      " 1 1 1 1 1 1 1 1 0 1 1 1 1 0 0 1 0 1 1 0 0 1 1 0 0 1 1 1 1 0 1 1 0 0 0 1 0\n",
      " 1 0 1 1 1 0 1 1 0 0 1 0 0 0 0 1 0 0 0 1 0 1 0 1 1 0 1 0 0 0 0 1 1 0 0 1 1\n",
      " 1 0 1 1 1 1 1 0 0 1 1 0 1 1 0 0 1 0 1 1 1 1 0 1 1 1 1 1 0 1 0 0 0 0 0 0 0\n",
      " 0 0 0 0 0 0 0 1 1 1 1 1 1 0 1 0 1 1 0 1 1 0 1 0 0 1 1 1 1 1 1 1 1 1 1 1 1\n",
      " 1 0 1 1 0 1 0 1 1 1 1 1 1 1 1 1 1 1 1 1 1 0 1 1 1 0 1 0 1 1 1 1 0 0 0 1 1\n",
      " 1 1 0 1 0 1 0 1 1 1 0 1 1 1 1 1 1 1 0 0 0 1 1 1 1 1 1 1 1 1 1 1 0 0 1 0 0\n",
      " 0 1 0 0 1 1 1 1 1 0 1 1 1 1 1 0 1 1 1 0 1 1 0 0 1 1 1 1 1 1 0 1 1 1 1 1 1\n",
      " 1 0 1 1 1 1 1 0 1 1 0 1 1 1 1 1 1 1 1 1 1 1 1 0 1 0 0 1 0 1 1 1 1 1 0 1 1\n",
      " 0 1 0 1 1 0 1 0 1 1 1 1 1 1 1 1 0 0 1 1 1 1 1 1 0 1 1 1 1 1 1 1 1 1 1 0 1\n",
      " 1 1 1 1 1 1 0 1 0 1 1 0 1 1 1 1 1 0 0 1 0 1 0 1 1 1 1 1 0 1 1 0 1 0 1 0 0\n",
      " 1 1 1 0 1 1 1 1 1 1 1 1 1 1 1 0 1 0 0 1 1 1 1 1 1 1 1 1 1 1 1 1 1 1 1 1 1\n",
      " 1 1 1 1 1 1 1 0 0 0 0 0 0 1]\n"
     ]
    }
   ],
   "source": [
    "print(y)"
   ]
  },
  {
   "cell_type": "code",
   "execution_count": 45,
   "id": "d83e67e3-a7ce-45cf-b161-732f4dfaf495",
   "metadata": {},
   "outputs": [],
   "source": [
    "#Split the datasets into training and test set"
   ]
  },
  {
   "cell_type": "code",
   "execution_count": 108,
   "id": "03676ee6-6969-494e-91ab-e9cc0b1b150b",
   "metadata": {},
   "outputs": [],
   "source": [
    "X_train, X_test, y_train, y_test = train_test_split(X,y,test_size=0.2,random_state =42)"
   ]
  },
  {
   "cell_type": "code",
   "execution_count": 109,
   "id": "68579264-b560-4fdd-bc7c-f3bef8e7faa8",
   "metadata": {},
   "outputs": [
    {
     "name": "stdout",
     "output_type": "stream",
     "text": [
      "(569, 30) (455, 30) (114, 30)\n"
     ]
    }
   ],
   "source": [
    "print(X.shape, X_train.shape, X_test.shape)"
   ]
  },
  {
   "cell_type": "code",
   "execution_count": 110,
   "id": "2a4f2be0-13e7-4596-b3c0-f1b257c4c4fa",
   "metadata": {},
   "outputs": [],
   "source": [
    "#Standarize the data"
   ]
  },
  {
   "cell_type": "code",
   "execution_count": 111,
   "id": "75f13964-0ae0-4296-97b8-9cc23b759fa0",
   "metadata": {},
   "outputs": [],
   "source": [
    "scaler = StandardScaler()"
   ]
  },
  {
   "cell_type": "code",
   "execution_count": 112,
   "id": "a9b8585b-c5a2-458b-bd22-168c958eb51e",
   "metadata": {},
   "outputs": [
    {
     "name": "stdout",
     "output_type": "stream",
     "text": [
      "StandardScaler()\n"
     ]
    }
   ],
   "source": [
    "print(scaler)"
   ]
  },
  {
   "cell_type": "code",
   "execution_count": 113,
   "id": "cf34b10f-cf94-41b6-b752-1941e5ca4404",
   "metadata": {},
   "outputs": [],
   "source": [
    "X_train = scaler.fit_transform(X_train)\n",
    "X_test = scaler.fit_transform(X_test)"
   ]
  },
  {
   "cell_type": "code",
   "execution_count": 114,
   "id": "593517c5-26fa-4ad5-a99a-a161bde63c71",
   "metadata": {},
   "outputs": [
    {
     "data": {
      "text/plain": [
       "numpy.ndarray"
      ]
     },
     "execution_count": 114,
     "metadata": {},
     "output_type": "execute_result"
    }
   ],
   "source": [
    "type(X_train)"
   ]
  },
  {
   "cell_type": "code",
   "execution_count": 115,
   "id": "28191255-de94-4a7e-96ee-6b87da141df2",
   "metadata": {},
   "outputs": [],
   "source": [
    "#converting the data to pytorch tensors"
   ]
  },
  {
   "cell_type": "code",
   "execution_count": 116,
   "id": "678c2662-883b-4d42-922c-2dc8b3adf7cd",
   "metadata": {},
   "outputs": [],
   "source": [
    "X_train = torch.tensor(X_train, dtype=torch.float32)\n",
    "y_train = torch.tensor(y_train, dtype=torch.float32)\n",
    "X_test = torch.tensor(X_test, dtype=torch.float32)\n",
    "y_test = torch.tensor(y_test, dtype=torch.float32)"
   ]
  },
  {
   "cell_type": "code",
   "execution_count": 117,
   "id": "0858bced-aedd-43cd-a625-02a2e9ef4de1",
   "metadata": {},
   "outputs": [],
   "source": [
    "# Neural Network Architecture"
   ]
  },
  {
   "cell_type": "code",
   "execution_count": 118,
   "id": "6843f025-1db0-415d-975b-cf5bbe377c51",
   "metadata": {},
   "outputs": [],
   "source": [
    "#define the neural network architecture \n",
    "class NeuralNet(nn.Module):\n",
    "\n",
    "  def __init__(self, input_size, hidden_size, output_size):\n",
    "    super(NeuralNet, self).__init__()\n",
    "    self.fc1 = nn.Linear(input_size, hidden_size)\n",
    "    self.relu = nn.ReLU()\n",
    "    self.fc2 = nn.Linear(hidden_size, output_size)\n",
    "    self.sigmoid = nn.Sigmoid()\n",
    "\n",
    "  def forward(self, x):\n",
    "    out = self.fc1(x)\n",
    "    out = self.relu(out)\n",
    "    out = self.fc2(out)\n",
    "    out = self.sigmoid(out)\n",
    "    return out\n",
    "        "
   ]
  },
  {
   "cell_type": "code",
   "execution_count": 119,
   "id": "bfc8ebe0-7ab8-42a0-9161-ce71dc81b889",
   "metadata": {},
   "outputs": [],
   "source": [
    "#define Hyperparameters\n",
    "input_size = X_train.shape[1]\n",
    "hidden_size = 64\n",
    "output_size = 1\n",
    "learning_rate = 0.001\n",
    "num_epochs = 100"
   ]
  },
  {
   "cell_type": "code",
   "execution_count": 120,
   "id": "e98260b0-b5fb-49d3-adf3-973a65a57423",
   "metadata": {},
   "outputs": [],
   "source": [
    "#Initialize the neural network \n",
    "model = NeuralNet(input_size, hidden_size, output_size).to(device)"
   ]
  },
  {
   "cell_type": "code",
   "execution_count": 121,
   "id": "7fb7cdc5-8597-4e84-aec7-604ed913f327",
   "metadata": {},
   "outputs": [],
   "source": [
    "#define loss and Optimizer"
   ]
  },
  {
   "cell_type": "code",
   "execution_count": 122,
   "id": "11eab098-8f49-4786-a2f1-53fe64c89600",
   "metadata": {},
   "outputs": [],
   "source": [
    "criterion = nn.BCELoss()\n",
    "optimizer = optim.Adam(model.parameters(), lr=learning_rate)"
   ]
  },
  {
   "cell_type": "code",
   "execution_count": 123,
   "id": "81b49429-b015-4843-855b-3c86ff78b9de",
   "metadata": {},
   "outputs": [
    {
     "name": "stdout",
     "output_type": "stream",
     "text": [
      "Epoch [10/100], Loss : 0.5381, Accuracy: 91.87%\n",
      "Epoch [20/100], Loss : 0.4197, Accuracy: 93.63%\n",
      "Epoch [30/100], Loss : 0.3290, Accuracy: 93.85%\n",
      "Epoch [40/100], Loss : 0.2635, Accuracy: 94.29%\n",
      "Epoch [50/100], Loss : 0.2174, Accuracy: 94.29%\n",
      "Epoch [60/100], Loss : 0.1844, Accuracy: 94.95%\n",
      "Epoch [70/100], Loss : 0.1601, Accuracy: 96.26%\n",
      "Epoch [80/100], Loss : 0.1415, Accuracy: 96.48%\n",
      "Epoch [90/100], Loss : 0.1271, Accuracy: 96.92%\n",
      "Epoch [100/100], Loss : 0.1157, Accuracy: 96.92%\n"
     ]
    }
   ],
   "source": [
    "##Training the Neural Network\n",
    "for epoch in range(num_epochs):\n",
    "  model.train()\n",
    "  optimizer.zero_grad()\n",
    "  outputs = model(X_train)\n",
    "  loss = criterion(outputs, y_train.view(-1,1))\n",
    "  loss.backward()\n",
    "  optimizer.step()\n",
    "\n",
    "  # claculate accuracy\n",
    "  with torch.no_grad():\n",
    "    predicted = outputs.round()\n",
    "    correct = (predicted == y_train.view(-1,1)).float().sum()\n",
    "    accuracy = correct/y_train.size(0)\n",
    "\n",
    "  if (epoch+1) % 10 == 0:\n",
    "    print(f\"Epoch [{epoch+1}/{num_epochs}], Loss : {loss.item():.4f}, Accuracy: {accuracy.item() * 100:.2f}%\")"
   ]
  },
  {
   "cell_type": "code",
   "execution_count": 124,
   "id": "2a9283e9-f746-461b-9958-3d21e40cfc7a",
   "metadata": {},
   "outputs": [
    {
     "name": "stdout",
     "output_type": "stream",
     "text": [
      "Accuracy on training data: 96.92%\n"
     ]
    }
   ],
   "source": [
    "# evaluation on training set\n",
    "model.eval()\n",
    "with torch.no_grad():\n",
    "  outputs = model(X_train)\n",
    "  predicted = outputs.round()\n",
    "  correct = (predicted == y_train.view(-1,1)).float().sum()\n",
    "  accuracy = correct/y_train.size(0)\n",
    "  print(f\"Accuracy on training data: {accuracy.item() * 100:.2f}%\")"
   ]
  },
  {
   "cell_type": "code",
   "execution_count": 125,
   "id": "7e7d8536-9122-481b-850d-75cca28c8820",
   "metadata": {},
   "outputs": [
    {
     "name": "stdout",
     "output_type": "stream",
     "text": [
      "Accuracy on test data: 98.25%\n"
     ]
    }
   ],
   "source": [
    "# evaluation on test set\n",
    "model.eval()\n",
    "with torch.no_grad():\n",
    "  outputs = model(X_test)\n",
    "  predicted = outputs.round()\n",
    "  correct = (predicted == y_test.view(-1,1)).float().sum()\n",
    "  accuracy = correct/y_test.size(0)\n",
    "  print(f\"Accuracy on test data: {accuracy.item() * 100:.2f}%\")"
   ]
  },
  {
   "cell_type": "code",
   "execution_count": null,
   "id": "61514aa3-d929-49b0-b5be-b090d0c109e0",
   "metadata": {},
   "outputs": [],
   "source": []
  }
 ],
 "metadata": {
  "kernelspec": {
   "display_name": "Python 3 (ipykernel)",
   "language": "python",
   "name": "python3"
  },
  "language_info": {
   "codemirror_mode": {
    "name": "ipython",
    "version": 3
   },
   "file_extension": ".py",
   "mimetype": "text/x-python",
   "name": "python",
   "nbconvert_exporter": "python",
   "pygments_lexer": "ipython3",
   "version": "3.11.7"
  }
 },
 "nbformat": 4,
 "nbformat_minor": 5
}
