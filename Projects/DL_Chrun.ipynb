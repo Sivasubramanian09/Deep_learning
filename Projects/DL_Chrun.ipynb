{
 "cells": [
  {
   "cell_type": "code",
   "execution_count": 5,
   "id": "7f18e49e-605e-48d1-a2dd-3517776e9846",
   "metadata": {},
   "outputs": [],
   "source": [
    "#Artificial Neural network"
   ]
  },
  {
   "cell_type": "code",
   "execution_count": 6,
   "id": "9eb881cc-0c73-4946-a19c-be16d131b527",
   "metadata": {},
   "outputs": [
    {
     "name": "stdout",
     "output_type": "stream",
     "text": [
      "2.16.1\n"
     ]
    }
   ],
   "source": [
    "import tensorflow as tf\n",
    "print(tf.__version__)"
   ]
  },
  {
   "cell_type": "code",
   "execution_count": 7,
   "id": "8b51e6ca-e116-449c-9161-60ace1e6b05d",
   "metadata": {},
   "outputs": [],
   "source": [
    "import numpy as np\n",
    "import pandas as pd\n",
    "import matplotlib.pyplot as plt\n"
   ]
  },
  {
   "cell_type": "code",
   "execution_count": 8,
   "id": "0e846975-4b2f-49d2-a01f-956ffa1c28ef",
   "metadata": {},
   "outputs": [],
   "source": [
    "dataset = pd.read_csv(\"Churn_Modelling.csv\")"
   ]
  },
  {
   "cell_type": "code",
   "execution_count": 9,
   "id": "18218225-b1b3-4c98-83ce-27a042a043ab",
   "metadata": {},
   "outputs": [
    {
     "data": {
      "text/html": [
       "<div>\n",
       "<style scoped>\n",
       "    .dataframe tbody tr th:only-of-type {\n",
       "        vertical-align: middle;\n",
       "    }\n",
       "\n",
       "    .dataframe tbody tr th {\n",
       "        vertical-align: top;\n",
       "    }\n",
       "\n",
       "    .dataframe thead th {\n",
       "        text-align: right;\n",
       "    }\n",
       "</style>\n",
       "<table border=\"1\" class=\"dataframe\">\n",
       "  <thead>\n",
       "    <tr style=\"text-align: right;\">\n",
       "      <th></th>\n",
       "      <th>RowNumber</th>\n",
       "      <th>CustomerId</th>\n",
       "      <th>Surname</th>\n",
       "      <th>CreditScore</th>\n",
       "      <th>Geography</th>\n",
       "      <th>Gender</th>\n",
       "      <th>Age</th>\n",
       "      <th>Tenure</th>\n",
       "      <th>Balance</th>\n",
       "      <th>NumOfProducts</th>\n",
       "      <th>HasCrCard</th>\n",
       "      <th>IsActiveMember</th>\n",
       "      <th>EstimatedSalary</th>\n",
       "      <th>Exited</th>\n",
       "    </tr>\n",
       "  </thead>\n",
       "  <tbody>\n",
       "    <tr>\n",
       "      <th>0</th>\n",
       "      <td>1</td>\n",
       "      <td>15634602</td>\n",
       "      <td>Hargrave</td>\n",
       "      <td>619</td>\n",
       "      <td>France</td>\n",
       "      <td>Female</td>\n",
       "      <td>42</td>\n",
       "      <td>2</td>\n",
       "      <td>0.00</td>\n",
       "      <td>1</td>\n",
       "      <td>1</td>\n",
       "      <td>1</td>\n",
       "      <td>101348.88</td>\n",
       "      <td>1</td>\n",
       "    </tr>\n",
       "    <tr>\n",
       "      <th>1</th>\n",
       "      <td>2</td>\n",
       "      <td>15647311</td>\n",
       "      <td>Hill</td>\n",
       "      <td>608</td>\n",
       "      <td>Spain</td>\n",
       "      <td>Female</td>\n",
       "      <td>41</td>\n",
       "      <td>1</td>\n",
       "      <td>83807.86</td>\n",
       "      <td>1</td>\n",
       "      <td>0</td>\n",
       "      <td>1</td>\n",
       "      <td>112542.58</td>\n",
       "      <td>0</td>\n",
       "    </tr>\n",
       "    <tr>\n",
       "      <th>2</th>\n",
       "      <td>3</td>\n",
       "      <td>15619304</td>\n",
       "      <td>Onio</td>\n",
       "      <td>502</td>\n",
       "      <td>France</td>\n",
       "      <td>Female</td>\n",
       "      <td>42</td>\n",
       "      <td>8</td>\n",
       "      <td>159660.80</td>\n",
       "      <td>3</td>\n",
       "      <td>1</td>\n",
       "      <td>0</td>\n",
       "      <td>113931.57</td>\n",
       "      <td>1</td>\n",
       "    </tr>\n",
       "    <tr>\n",
       "      <th>3</th>\n",
       "      <td>4</td>\n",
       "      <td>15701354</td>\n",
       "      <td>Boni</td>\n",
       "      <td>699</td>\n",
       "      <td>France</td>\n",
       "      <td>Female</td>\n",
       "      <td>39</td>\n",
       "      <td>1</td>\n",
       "      <td>0.00</td>\n",
       "      <td>2</td>\n",
       "      <td>0</td>\n",
       "      <td>0</td>\n",
       "      <td>93826.63</td>\n",
       "      <td>0</td>\n",
       "    </tr>\n",
       "    <tr>\n",
       "      <th>4</th>\n",
       "      <td>5</td>\n",
       "      <td>15737888</td>\n",
       "      <td>Mitchell</td>\n",
       "      <td>850</td>\n",
       "      <td>Spain</td>\n",
       "      <td>Female</td>\n",
       "      <td>43</td>\n",
       "      <td>2</td>\n",
       "      <td>125510.82</td>\n",
       "      <td>1</td>\n",
       "      <td>1</td>\n",
       "      <td>1</td>\n",
       "      <td>79084.10</td>\n",
       "      <td>0</td>\n",
       "    </tr>\n",
       "  </tbody>\n",
       "</table>\n",
       "</div>"
      ],
      "text/plain": [
       "   RowNumber  CustomerId   Surname  CreditScore Geography  Gender  Age  \\\n",
       "0          1    15634602  Hargrave          619    France  Female   42   \n",
       "1          2    15647311      Hill          608     Spain  Female   41   \n",
       "2          3    15619304      Onio          502    France  Female   42   \n",
       "3          4    15701354      Boni          699    France  Female   39   \n",
       "4          5    15737888  Mitchell          850     Spain  Female   43   \n",
       "\n",
       "   Tenure    Balance  NumOfProducts  HasCrCard  IsActiveMember  \\\n",
       "0       2       0.00              1          1               1   \n",
       "1       1   83807.86              1          0               1   \n",
       "2       8  159660.80              3          1               0   \n",
       "3       1       0.00              2          0               0   \n",
       "4       2  125510.82              1          1               1   \n",
       "\n",
       "   EstimatedSalary  Exited  \n",
       "0        101348.88       1  \n",
       "1        112542.58       0  \n",
       "2        113931.57       1  \n",
       "3         93826.63       0  \n",
       "4         79084.10       0  "
      ]
     },
     "execution_count": 9,
     "metadata": {},
     "output_type": "execute_result"
    }
   ],
   "source": [
    "dataset.head()"
   ]
  },
  {
   "cell_type": "code",
   "execution_count": 10,
   "id": "b7e08315-8fbb-4a74-a402-d7617ddf8784",
   "metadata": {},
   "outputs": [],
   "source": [
    "## Divide the dataset to independent and depedent dataset\n"
   ]
  },
  {
   "cell_type": "code",
   "execution_count": 11,
   "id": "7dd469b6-0d21-4b19-856f-16607ba8e232",
   "metadata": {},
   "outputs": [],
   "source": [
    "X = dataset.iloc[:,3:13]"
   ]
  },
  {
   "cell_type": "code",
   "execution_count": 12,
   "id": "29f04269-7754-481b-9111-f368256ee879",
   "metadata": {},
   "outputs": [],
   "source": [
    "Y = dataset[\"Exited\"]"
   ]
  },
  {
   "cell_type": "code",
   "execution_count": 13,
   "id": "6f55cc6b-10ea-434c-9d6e-35634a2b66e2",
   "metadata": {},
   "outputs": [
    {
     "name": "stdout",
     "output_type": "stream",
     "text": [
      "0       1\n",
      "1       0\n",
      "2       1\n",
      "3       0\n",
      "4       0\n",
      "       ..\n",
      "9995    0\n",
      "9996    0\n",
      "9997    1\n",
      "9998    1\n",
      "9999    0\n",
      "Name: Exited, Length: 10000, dtype: int64\n"
     ]
    }
   ],
   "source": [
    "print(Y)"
   ]
  },
  {
   "cell_type": "code",
   "execution_count": 14,
   "id": "0cf18312-8d00-4592-8abe-c19295f7e8d8",
   "metadata": {},
   "outputs": [],
   "source": [
    "#Feature Engineering"
   ]
  },
  {
   "cell_type": "code",
   "execution_count": 15,
   "id": "d9fe8e2a-e0f1-4642-9443-6f2d17daf443",
   "metadata": {},
   "outputs": [],
   "source": [
    "geography = pd.get_dummies(X['Geography'], drop_first = True)\n",
    "gender = pd.get_dummies(X['Gender'],drop_first = True)"
   ]
  },
  {
   "cell_type": "code",
   "execution_count": 16,
   "id": "824c47a8-ecfa-4e1b-8615-0428e8fb62d3",
   "metadata": {},
   "outputs": [
    {
     "name": "stdout",
     "output_type": "stream",
     "text": [
      "      Germany  Spain\n",
      "0       False  False\n",
      "1       False   True\n",
      "2       False  False\n",
      "3       False  False\n",
      "4       False   True\n",
      "...       ...    ...\n",
      "9995    False  False\n",
      "9996    False  False\n",
      "9997    False  False\n",
      "9998     True  False\n",
      "9999    False  False\n",
      "\n",
      "[10000 rows x 2 columns]\n"
     ]
    }
   ],
   "source": [
    "print(geography)"
   ]
  },
  {
   "cell_type": "code",
   "execution_count": 17,
   "id": "6e9f6463-dd76-4f1b-ae58-4a19f6a35e03",
   "metadata": {},
   "outputs": [],
   "source": [
    "##Concatenate the variable with dataframe"
   ]
  },
  {
   "cell_type": "code",
   "execution_count": 18,
   "id": "7da44af8-1e44-46c3-89f9-6bc5ede55846",
   "metadata": {},
   "outputs": [],
   "source": [
    "X = X.drop(['Geography', 'Gender'], axis = 1)"
   ]
  },
  {
   "cell_type": "code",
   "execution_count": 19,
   "id": "660b5224-9e75-488a-a1d0-cd4e238bc28b",
   "metadata": {},
   "outputs": [
    {
     "data": {
      "text/html": [
       "<div>\n",
       "<style scoped>\n",
       "    .dataframe tbody tr th:only-of-type {\n",
       "        vertical-align: middle;\n",
       "    }\n",
       "\n",
       "    .dataframe tbody tr th {\n",
       "        vertical-align: top;\n",
       "    }\n",
       "\n",
       "    .dataframe thead th {\n",
       "        text-align: right;\n",
       "    }\n",
       "</style>\n",
       "<table border=\"1\" class=\"dataframe\">\n",
       "  <thead>\n",
       "    <tr style=\"text-align: right;\">\n",
       "      <th></th>\n",
       "      <th>CreditScore</th>\n",
       "      <th>Age</th>\n",
       "      <th>Tenure</th>\n",
       "      <th>Balance</th>\n",
       "      <th>NumOfProducts</th>\n",
       "      <th>HasCrCard</th>\n",
       "      <th>IsActiveMember</th>\n",
       "      <th>EstimatedSalary</th>\n",
       "    </tr>\n",
       "  </thead>\n",
       "  <tbody>\n",
       "    <tr>\n",
       "      <th>0</th>\n",
       "      <td>619</td>\n",
       "      <td>42</td>\n",
       "      <td>2</td>\n",
       "      <td>0.00</td>\n",
       "      <td>1</td>\n",
       "      <td>1</td>\n",
       "      <td>1</td>\n",
       "      <td>101348.88</td>\n",
       "    </tr>\n",
       "    <tr>\n",
       "      <th>1</th>\n",
       "      <td>608</td>\n",
       "      <td>41</td>\n",
       "      <td>1</td>\n",
       "      <td>83807.86</td>\n",
       "      <td>1</td>\n",
       "      <td>0</td>\n",
       "      <td>1</td>\n",
       "      <td>112542.58</td>\n",
       "    </tr>\n",
       "    <tr>\n",
       "      <th>2</th>\n",
       "      <td>502</td>\n",
       "      <td>42</td>\n",
       "      <td>8</td>\n",
       "      <td>159660.80</td>\n",
       "      <td>3</td>\n",
       "      <td>1</td>\n",
       "      <td>0</td>\n",
       "      <td>113931.57</td>\n",
       "    </tr>\n",
       "    <tr>\n",
       "      <th>3</th>\n",
       "      <td>699</td>\n",
       "      <td>39</td>\n",
       "      <td>1</td>\n",
       "      <td>0.00</td>\n",
       "      <td>2</td>\n",
       "      <td>0</td>\n",
       "      <td>0</td>\n",
       "      <td>93826.63</td>\n",
       "    </tr>\n",
       "    <tr>\n",
       "      <th>4</th>\n",
       "      <td>850</td>\n",
       "      <td>43</td>\n",
       "      <td>2</td>\n",
       "      <td>125510.82</td>\n",
       "      <td>1</td>\n",
       "      <td>1</td>\n",
       "      <td>1</td>\n",
       "      <td>79084.10</td>\n",
       "    </tr>\n",
       "  </tbody>\n",
       "</table>\n",
       "</div>"
      ],
      "text/plain": [
       "   CreditScore  Age  Tenure    Balance  NumOfProducts  HasCrCard  \\\n",
       "0          619   42       2       0.00              1          1   \n",
       "1          608   41       1   83807.86              1          0   \n",
       "2          502   42       8  159660.80              3          1   \n",
       "3          699   39       1       0.00              2          0   \n",
       "4          850   43       2  125510.82              1          1   \n",
       "\n",
       "   IsActiveMember  EstimatedSalary  \n",
       "0               1        101348.88  \n",
       "1               1        112542.58  \n",
       "2               0        113931.57  \n",
       "3               0         93826.63  \n",
       "4               1         79084.10  "
      ]
     },
     "execution_count": 19,
     "metadata": {},
     "output_type": "execute_result"
    }
   ],
   "source": [
    "X.head()"
   ]
  },
  {
   "cell_type": "code",
   "execution_count": 20,
   "id": "aab2c1f9-ef99-4fa6-886c-615c317ccdb4",
   "metadata": {},
   "outputs": [],
   "source": [
    "#Concatenating process"
   ]
  },
  {
   "cell_type": "code",
   "execution_count": 21,
   "id": "f9baefeb-4c53-49d8-a690-4934e52f3d3a",
   "metadata": {},
   "outputs": [],
   "source": [
    "X = pd.concat([X,geography,gender], axis = 1)"
   ]
  },
  {
   "cell_type": "code",
   "execution_count": 22,
   "id": "90997a56-b958-4411-aae2-7d412dd5f2f0",
   "metadata": {},
   "outputs": [],
   "source": [
    "#Splitting the dataset into training and test set"
   ]
  },
  {
   "cell_type": "code",
   "execution_count": 23,
   "id": "6ad170c4-92ee-4e95-8d34-0b8f2259773c",
   "metadata": {},
   "outputs": [],
   "source": [
    "from sklearn.model_selection import train_test_split"
   ]
  },
  {
   "cell_type": "code",
   "execution_count": 24,
   "id": "56b16083-8142-45bf-b2f0-7eae0c28d9d7",
   "metadata": {},
   "outputs": [],
   "source": [
    "X_train, X_test , Y_train, Y_test = train_test_split(X,Y, test_size = 0.2, random_state = 0)"
   ]
  },
  {
   "cell_type": "code",
   "execution_count": 25,
   "id": "fabdf142-ffd6-4ba4-990c-e82648a571f7",
   "metadata": {},
   "outputs": [],
   "source": [
    "## Feature Scaling"
   ]
  },
  {
   "cell_type": "code",
   "execution_count": 26,
   "id": "ab4e0039-f210-4768-8814-79eeb6163c82",
   "metadata": {},
   "outputs": [],
   "source": [
    "from sklearn.preprocessing import StandardScaler"
   ]
  },
  {
   "cell_type": "code",
   "execution_count": 27,
   "id": "bd100938-fd68-4971-8cfa-5e166a706409",
   "metadata": {},
   "outputs": [],
   "source": [
    "sc = StandardScaler()\n",
    "X_train = sc.fit_transform(X_train)\n",
    "X_test = sc.transform(X_test)"
   ]
  },
  {
   "cell_type": "code",
   "execution_count": 28,
   "id": "04cd06b5-5582-4044-997b-ee1508a4e8b4",
   "metadata": {},
   "outputs": [
    {
     "data": {
      "text/plain": [
       "array([[ 0.16958176, -0.46460796,  0.00666099, ..., -0.5698444 ,\n",
       "         1.74309049, -1.09168714],\n",
       "       [-2.30455945,  0.30102557, -1.37744033, ...,  1.75486502,\n",
       "        -0.57369368,  0.91601335],\n",
       "       [-1.19119591, -0.94312892, -1.031415  , ..., -0.5698444 ,\n",
       "        -0.57369368, -1.09168714],\n",
       "       ...,\n",
       "       [ 0.9015152 , -0.36890377,  0.00666099, ..., -0.5698444 ,\n",
       "        -0.57369368,  0.91601335],\n",
       "       [-0.62420521, -0.08179119,  1.39076231, ..., -0.5698444 ,\n",
       "         1.74309049, -1.09168714],\n",
       "       [-0.28401079,  0.87525072, -1.37744033, ...,  1.75486502,\n",
       "        -0.57369368, -1.09168714]])"
      ]
     },
     "execution_count": 28,
     "metadata": {},
     "output_type": "execute_result"
    }
   ],
   "source": [
    "X_train"
   ]
  },
  {
   "cell_type": "code",
   "execution_count": 29,
   "id": "8842c682-4a18-4e8d-8af7-fb376890955b",
   "metadata": {},
   "outputs": [
    {
     "data": {
      "text/plain": [
       "array([[-0.55204276, -0.36890377,  1.04473698, ...,  1.75486502,\n",
       "        -0.57369368, -1.09168714],\n",
       "       [-1.31490297,  0.10961719, -1.031415  , ..., -0.5698444 ,\n",
       "        -0.57369368, -1.09168714],\n",
       "       [ 0.57162971,  0.30102557,  1.04473698, ..., -0.5698444 ,\n",
       "         1.74309049, -1.09168714],\n",
       "       ...,\n",
       "       [-0.74791227, -0.27319958, -1.37744033, ..., -0.5698444 ,\n",
       "         1.74309049,  0.91601335],\n",
       "       [-0.00566991, -0.46460796, -0.33936434, ...,  1.75486502,\n",
       "        -0.57369368,  0.91601335],\n",
       "       [-0.79945688, -0.84742473,  1.04473698, ...,  1.75486502,\n",
       "        -0.57369368,  0.91601335]])"
      ]
     },
     "execution_count": 29,
     "metadata": {},
     "output_type": "execute_result"
    }
   ],
   "source": [
    "X_test"
   ]
  },
  {
   "cell_type": "code",
   "execution_count": 30,
   "id": "75020c83-a839-4473-b794-27e126b2cb7a",
   "metadata": {},
   "outputs": [
    {
     "data": {
      "text/plain": [
       "(8000, 11)"
      ]
     },
     "execution_count": 30,
     "metadata": {},
     "output_type": "execute_result"
    }
   ],
   "source": [
    "X_train.shape"
   ]
  },
  {
   "cell_type": "code",
   "execution_count": 31,
   "id": "0ebb10fd-15d0-4399-9192-bb1e69cf3a57",
   "metadata": {},
   "outputs": [
    {
     "data": {
      "text/plain": [
       "(2000, 11)"
      ]
     },
     "execution_count": 31,
     "metadata": {},
     "output_type": "execute_result"
    }
   ],
   "source": [
    "X_test.shape"
   ]
  },
  {
   "cell_type": "code",
   "execution_count": 32,
   "id": "00c73135-a90d-4b45-9ec4-3c3445d44f7e",
   "metadata": {},
   "outputs": [],
   "source": [
    "## Part 2 Now lets create the ANN"
   ]
  },
  {
   "cell_type": "code",
   "execution_count": 33,
   "id": "15a715d8-82f8-4ba2-b204-3ad4ab7f7be0",
   "metadata": {},
   "outputs": [],
   "source": [
    "from tensorflow.keras.models import Sequential\n",
    "from tensorflow.keras.layers import Dense\n",
    "from tensorflow.keras.layers import LeakyReLU,PReLU,ELU,ReLU\n",
    "from tensorflow.keras.layers import Dropout"
   ]
  },
  {
   "cell_type": "code",
   "execution_count": 59,
   "id": "6f26b0ba-7c14-4ab9-b189-6935001749f6",
   "metadata": {},
   "outputs": [],
   "source": [
    "##Initializing the ANN\n",
    "classifier = Sequential()"
   ]
  },
  {
   "cell_type": "code",
   "execution_count": 60,
   "id": "ce9be866-29b3-49a4-93ed-a6227eb98aac",
   "metadata": {},
   "outputs": [],
   "source": [
    "#Adding the input layer\n",
    "classifier.add(Dense(units=11,activation='relu'))"
   ]
  },
  {
   "cell_type": "code",
   "execution_count": 61,
   "id": "fd60b378-baf9-4b6f-b789-368f033e1a8a",
   "metadata": {},
   "outputs": [],
   "source": [
    "#adding the first hidden layer\n",
    "classifier.add(Dense(units=7,activation='relu'))\n",
    "classifier.add(Dropout(0.2))"
   ]
  },
  {
   "cell_type": "code",
   "execution_count": 62,
   "id": "2f6741d7-1846-4ac7-b328-9034b8c8b5e5",
   "metadata": {},
   "outputs": [],
   "source": [
    "##adding the second hidden layer\n",
    "classifier.add(Dense(units=6,activation='relu'))\n",
    "classifier.add(Dropout(0.2))"
   ]
  },
  {
   "cell_type": "code",
   "execution_count": 63,
   "id": "2a5c16b3-85b1-4c79-85ac-81528e20e643",
   "metadata": {},
   "outputs": [],
   "source": [
    "##adding the output layer\n",
    "classifier.add(Dense(1,activation='sigmoid'))\n",
    "classifier.add(Dropout(0.2))"
   ]
  },
  {
   "cell_type": "code",
   "execution_count": 65,
   "id": "88a7fd38-1304-4de6-96e5-4026347ce2bd",
   "metadata": {},
   "outputs": [],
   "source": [
    "classifier.compile(optimizer='adam',loss='binary_crossentropy',metrics=['accuracy'])"
   ]
  },
  {
   "cell_type": "code",
   "execution_count": 66,
   "id": "6fc195f9-4322-426b-a231-d942e1a7981d",
   "metadata": {},
   "outputs": [],
   "source": [
    "import tensorflow\n",
    "opt = tensorflow.keras.optimizers.Adam(learning_rate=0.01)"
   ]
  },
  {
   "cell_type": "code",
   "execution_count": 67,
   "id": "2b2b199c-7d25-4414-909f-79b3a11825f1",
   "metadata": {},
   "outputs": [],
   "source": [
    "import tensorflow as tf\n",
    "early_stopping = tf.keras.callbacks.EarlyStopping(\n",
    "    monitor=\"val_loss\",\n",
    "    min_delta=0.0001,\n",
    "    patience=20,\n",
    "    verbose=1,\n",
    "    mode=\"auto\",\n",
    "    baseline=None,\n",
    "    restore_best_weights=False,\n",
    ")"
   ]
  },
  {
   "cell_type": "code",
   "execution_count": 68,
   "id": "16853aba-96b1-4cdd-9f3c-dee9c9eae4f4",
   "metadata": {},
   "outputs": [
    {
     "name": "stdout",
     "output_type": "stream",
     "text": [
      "Epoch 1/1000\n",
      "\u001b[1m536/536\u001b[0m \u001b[32m━━━━━━━━━━━━━━━━━━━━\u001b[0m\u001b[37m\u001b[0m \u001b[1m2s\u001b[0m 1ms/step - accuracy: 0.5346 - loss: 1.2223 - val_accuracy: 0.7959 - val_loss: 0.4733\n",
      "Epoch 2/1000\n",
      "\u001b[1m536/536\u001b[0m \u001b[32m━━━━━━━━━━━━━━━━━━━━\u001b[0m\u001b[37m\u001b[0m \u001b[1m1s\u001b[0m 1ms/step - accuracy: 0.7883 - loss: 0.9855 - val_accuracy: 0.7967 - val_loss: 0.4418\n",
      "Epoch 3/1000\n",
      "\u001b[1m536/536\u001b[0m \u001b[32m━━━━━━━━━━━━━━━━━━━━\u001b[0m\u001b[37m\u001b[0m \u001b[1m1s\u001b[0m 1ms/step - accuracy: 0.7914 - loss: 0.9451 - val_accuracy: 0.8001 - val_loss: 0.4277\n",
      "Epoch 4/1000\n",
      "\u001b[1m536/536\u001b[0m \u001b[32m━━━━━━━━━━━━━━━━━━━━\u001b[0m\u001b[37m\u001b[0m \u001b[1m1s\u001b[0m 1ms/step - accuracy: 0.8096 - loss: 0.9328 - val_accuracy: 0.8054 - val_loss: 0.4207\n",
      "Epoch 5/1000\n",
      "\u001b[1m536/536\u001b[0m \u001b[32m━━━━━━━━━━━━━━━━━━━━\u001b[0m\u001b[37m\u001b[0m \u001b[1m1s\u001b[0m 1ms/step - accuracy: 0.8177 - loss: 1.0045 - val_accuracy: 0.8080 - val_loss: 0.4108\n",
      "Epoch 6/1000\n",
      "\u001b[1m536/536\u001b[0m \u001b[32m━━━━━━━━━━━━━━━━━━━━\u001b[0m\u001b[37m\u001b[0m \u001b[1m1s\u001b[0m 1ms/step - accuracy: 0.8254 - loss: 1.0096 - val_accuracy: 0.8137 - val_loss: 0.4009\n",
      "Epoch 7/1000\n",
      "\u001b[1m536/536\u001b[0m \u001b[32m━━━━━━━━━━━━━━━━━━━━\u001b[0m\u001b[37m\u001b[0m \u001b[1m1s\u001b[0m 991us/step - accuracy: 0.8280 - loss: 0.9649 - val_accuracy: 0.8217 - val_loss: 0.3996\n",
      "Epoch 8/1000\n",
      "\u001b[1m536/536\u001b[0m \u001b[32m━━━━━━━━━━━━━━━━━━━━\u001b[0m\u001b[37m\u001b[0m \u001b[1m1s\u001b[0m 1ms/step - accuracy: 0.8276 - loss: 0.9938 - val_accuracy: 0.8179 - val_loss: 0.3959\n",
      "Epoch 9/1000\n",
      "\u001b[1m536/536\u001b[0m \u001b[32m━━━━━━━━━━━━━━━━━━━━\u001b[0m\u001b[37m\u001b[0m \u001b[1m1s\u001b[0m 1ms/step - accuracy: 0.8284 - loss: 0.9302 - val_accuracy: 0.8258 - val_loss: 0.3915\n",
      "Epoch 10/1000\n",
      "\u001b[1m536/536\u001b[0m \u001b[32m━━━━━━━━━━━━━━━━━━━━\u001b[0m\u001b[37m\u001b[0m \u001b[1m1s\u001b[0m 1ms/step - accuracy: 0.8236 - loss: 1.0486 - val_accuracy: 0.8069 - val_loss: 0.4011\n",
      "Epoch 11/1000\n",
      "\u001b[1m536/536\u001b[0m \u001b[32m━━━━━━━━━━━━━━━━━━━━\u001b[0m\u001b[37m\u001b[0m \u001b[1m1s\u001b[0m 1ms/step - accuracy: 0.8340 - loss: 0.9612 - val_accuracy: 0.8107 - val_loss: 0.3982\n",
      "Epoch 12/1000\n",
      "\u001b[1m536/536\u001b[0m \u001b[32m━━━━━━━━━━━━━━━━━━━━\u001b[0m\u001b[37m\u001b[0m \u001b[1m1s\u001b[0m 1ms/step - accuracy: 0.8218 - loss: 0.9673 - val_accuracy: 0.8133 - val_loss: 0.3970\n",
      "Epoch 13/1000\n",
      "\u001b[1m536/536\u001b[0m \u001b[32m━━━━━━━━━━━━━━━━━━━━\u001b[0m\u001b[37m\u001b[0m \u001b[1m1s\u001b[0m 1ms/step - accuracy: 0.8188 - loss: 0.9581 - val_accuracy: 0.8171 - val_loss: 0.3926\n",
      "Epoch 14/1000\n",
      "\u001b[1m536/536\u001b[0m \u001b[32m━━━━━━━━━━━━━━━━━━━━\u001b[0m\u001b[37m\u001b[0m \u001b[1m1s\u001b[0m 1ms/step - accuracy: 0.8349 - loss: 0.8948 - val_accuracy: 0.8220 - val_loss: 0.3933\n",
      "Epoch 15/1000\n",
      "\u001b[1m536/536\u001b[0m \u001b[32m━━━━━━━━━━━━━━━━━━━━\u001b[0m\u001b[37m\u001b[0m \u001b[1m1s\u001b[0m 1ms/step - accuracy: 0.8289 - loss: 0.8391 - val_accuracy: 0.8258 - val_loss: 0.3873\n",
      "Epoch 16/1000\n",
      "\u001b[1m536/536\u001b[0m \u001b[32m━━━━━━━━━━━━━━━━━━━━\u001b[0m\u001b[37m\u001b[0m \u001b[1m1s\u001b[0m 1ms/step - accuracy: 0.8326 - loss: 0.9890 - val_accuracy: 0.8183 - val_loss: 0.3899\n",
      "Epoch 17/1000\n",
      "\u001b[1m536/536\u001b[0m \u001b[32m━━━━━━━━━━━━━━━━━━━━\u001b[0m\u001b[37m\u001b[0m \u001b[1m1s\u001b[0m 1ms/step - accuracy: 0.8329 - loss: 0.9718 - val_accuracy: 0.8186 - val_loss: 0.3867\n",
      "Epoch 18/1000\n",
      "\u001b[1m536/536\u001b[0m \u001b[32m━━━━━━━━━━━━━━━━━━━━\u001b[0m\u001b[37m\u001b[0m \u001b[1m1s\u001b[0m 1ms/step - accuracy: 0.8294 - loss: 0.9599 - val_accuracy: 0.8311 - val_loss: 0.3819\n",
      "Epoch 19/1000\n",
      "\u001b[1m536/536\u001b[0m \u001b[32m━━━━━━━━━━━━━━━━━━━━\u001b[0m\u001b[37m\u001b[0m \u001b[1m1s\u001b[0m 1ms/step - accuracy: 0.8343 - loss: 0.9041 - val_accuracy: 0.8213 - val_loss: 0.3873\n",
      "Epoch 20/1000\n",
      "\u001b[1m536/536\u001b[0m \u001b[32m━━━━━━━━━━━━━━━━━━━━\u001b[0m\u001b[37m\u001b[0m \u001b[1m1s\u001b[0m 1ms/step - accuracy: 0.8295 - loss: 0.9395 - val_accuracy: 0.8285 - val_loss: 0.3824\n",
      "Epoch 21/1000\n",
      "\u001b[1m536/536\u001b[0m \u001b[32m━━━━━━━━━━━━━━━━━━━━\u001b[0m\u001b[37m\u001b[0m \u001b[1m1s\u001b[0m 1ms/step - accuracy: 0.8356 - loss: 0.8896 - val_accuracy: 0.8239 - val_loss: 0.3832\n",
      "Epoch 22/1000\n",
      "\u001b[1m536/536\u001b[0m \u001b[32m━━━━━━━━━━━━━━━━━━━━\u001b[0m\u001b[37m\u001b[0m \u001b[1m1s\u001b[0m 1ms/step - accuracy: 0.8345 - loss: 0.9252 - val_accuracy: 0.8338 - val_loss: 0.3772\n",
      "Epoch 23/1000\n",
      "\u001b[1m536/536\u001b[0m \u001b[32m━━━━━━━━━━━━━━━━━━━━\u001b[0m\u001b[37m\u001b[0m \u001b[1m1s\u001b[0m 1ms/step - accuracy: 0.8384 - loss: 0.8492 - val_accuracy: 0.8258 - val_loss: 0.3814\n",
      "Epoch 24/1000\n",
      "\u001b[1m536/536\u001b[0m \u001b[32m━━━━━━━━━━━━━━━━━━━━\u001b[0m\u001b[37m\u001b[0m \u001b[1m1s\u001b[0m 997us/step - accuracy: 0.8365 - loss: 0.9671 - val_accuracy: 0.8364 - val_loss: 0.3783\n",
      "Epoch 25/1000\n",
      "\u001b[1m536/536\u001b[0m \u001b[32m━━━━━━━━━━━━━━━━━━━━\u001b[0m\u001b[37m\u001b[0m \u001b[1m1s\u001b[0m 989us/step - accuracy: 0.8280 - loss: 0.8564 - val_accuracy: 0.8342 - val_loss: 0.3778\n",
      "Epoch 26/1000\n",
      "\u001b[1m536/536\u001b[0m \u001b[32m━━━━━━━━━━━━━━━━━━━━\u001b[0m\u001b[37m\u001b[0m \u001b[1m1s\u001b[0m 1ms/step - accuracy: 0.8370 - loss: 0.9475 - val_accuracy: 0.8383 - val_loss: 0.3725\n",
      "Epoch 27/1000\n",
      "\u001b[1m536/536\u001b[0m \u001b[32m━━━━━━━━━━━━━━━━━━━━\u001b[0m\u001b[37m\u001b[0m \u001b[1m1s\u001b[0m 1ms/step - accuracy: 0.8430 - loss: 0.9014 - val_accuracy: 0.8326 - val_loss: 0.3785\n",
      "Epoch 28/1000\n",
      "\u001b[1m536/536\u001b[0m \u001b[32m━━━━━━━━━━━━━━━━━━━━\u001b[0m\u001b[37m\u001b[0m \u001b[1m1s\u001b[0m 1ms/step - accuracy: 0.8313 - loss: 1.0221 - val_accuracy: 0.8345 - val_loss: 0.3790\n",
      "Epoch 29/1000\n",
      "\u001b[1m536/536\u001b[0m \u001b[32m━━━━━━━━━━━━━━━━━━━━\u001b[0m\u001b[37m\u001b[0m \u001b[1m1s\u001b[0m 1ms/step - accuracy: 0.8417 - loss: 0.9069 - val_accuracy: 0.8334 - val_loss: 0.3785\n",
      "Epoch 30/1000\n",
      "\u001b[1m536/536\u001b[0m \u001b[32m━━━━━━━━━━━━━━━━━━━━\u001b[0m\u001b[37m\u001b[0m \u001b[1m1s\u001b[0m 993us/step - accuracy: 0.8276 - loss: 1.0711 - val_accuracy: 0.8292 - val_loss: 0.3823\n",
      "Epoch 31/1000\n",
      "\u001b[1m536/536\u001b[0m \u001b[32m━━━━━━━━━━━━━━━━━━━━\u001b[0m\u001b[37m\u001b[0m \u001b[1m1s\u001b[0m 1ms/step - accuracy: 0.8256 - loss: 1.0342 - val_accuracy: 0.8334 - val_loss: 0.3799\n",
      "Epoch 32/1000\n",
      "\u001b[1m536/536\u001b[0m \u001b[32m━━━━━━━━━━━━━━━━━━━━\u001b[0m\u001b[37m\u001b[0m \u001b[1m1s\u001b[0m 1ms/step - accuracy: 0.8377 - loss: 0.9499 - val_accuracy: 0.8326 - val_loss: 0.3779\n",
      "Epoch 33/1000\n",
      "\u001b[1m536/536\u001b[0m \u001b[32m━━━━━━━━━━━━━━━━━━━━\u001b[0m\u001b[37m\u001b[0m \u001b[1m1s\u001b[0m 989us/step - accuracy: 0.8341 - loss: 1.0139 - val_accuracy: 0.8300 - val_loss: 0.3803\n",
      "Epoch 34/1000\n",
      "\u001b[1m536/536\u001b[0m \u001b[32m━━━━━━━━━━━━━━━━━━━━\u001b[0m\u001b[37m\u001b[0m \u001b[1m1s\u001b[0m 999us/step - accuracy: 0.8456 - loss: 0.8851 - val_accuracy: 0.8387 - val_loss: 0.3748\n",
      "Epoch 35/1000\n",
      "\u001b[1m536/536\u001b[0m \u001b[32m━━━━━━━━━━━━━━━━━━━━\u001b[0m\u001b[37m\u001b[0m \u001b[1m1s\u001b[0m 1ms/step - accuracy: 0.8331 - loss: 1.0538 - val_accuracy: 0.8372 - val_loss: 0.3786\n",
      "Epoch 36/1000\n",
      "\u001b[1m536/536\u001b[0m \u001b[32m━━━━━━━━━━━━━━━━━━━━\u001b[0m\u001b[37m\u001b[0m \u001b[1m1s\u001b[0m 1ms/step - accuracy: 0.8374 - loss: 0.9606 - val_accuracy: 0.8330 - val_loss: 0.3775\n",
      "Epoch 37/1000\n",
      "\u001b[1m536/536\u001b[0m \u001b[32m━━━━━━━━━━━━━━━━━━━━\u001b[0m\u001b[37m\u001b[0m \u001b[1m1s\u001b[0m 1ms/step - accuracy: 0.8399 - loss: 0.9321 - val_accuracy: 0.8391 - val_loss: 0.3740\n",
      "Epoch 38/1000\n",
      "\u001b[1m536/536\u001b[0m \u001b[32m━━━━━━━━━━━━━━━━━━━━\u001b[0m\u001b[37m\u001b[0m \u001b[1m1s\u001b[0m 1ms/step - accuracy: 0.8362 - loss: 0.9658 - val_accuracy: 0.8402 - val_loss: 0.3735\n",
      "Epoch 39/1000\n",
      "\u001b[1m536/536\u001b[0m \u001b[32m━━━━━━━━━━━━━━━━━━━━\u001b[0m\u001b[37m\u001b[0m \u001b[1m1s\u001b[0m 1ms/step - accuracy: 0.8439 - loss: 0.8879 - val_accuracy: 0.8372 - val_loss: 0.3769\n",
      "Epoch 40/1000\n",
      "\u001b[1m536/536\u001b[0m \u001b[32m━━━━━━━━━━━━━━━━━━━━\u001b[0m\u001b[37m\u001b[0m \u001b[1m1s\u001b[0m 1ms/step - accuracy: 0.8396 - loss: 0.9454 - val_accuracy: 0.8300 - val_loss: 0.3833\n",
      "Epoch 41/1000\n",
      "\u001b[1m536/536\u001b[0m \u001b[32m━━━━━━━━━━━━━━━━━━━━\u001b[0m\u001b[37m\u001b[0m \u001b[1m1s\u001b[0m 1ms/step - accuracy: 0.8408 - loss: 1.0070 - val_accuracy: 0.8410 - val_loss: 0.3703\n",
      "Epoch 42/1000\n",
      "\u001b[1m536/536\u001b[0m \u001b[32m━━━━━━━━━━━━━━━━━━━━\u001b[0m\u001b[37m\u001b[0m \u001b[1m1s\u001b[0m 1ms/step - accuracy: 0.8447 - loss: 0.9355 - val_accuracy: 0.8364 - val_loss: 0.3733\n",
      "Epoch 43/1000\n",
      "\u001b[1m536/536\u001b[0m \u001b[32m━━━━━━━━━━━━━━━━━━━━\u001b[0m\u001b[37m\u001b[0m \u001b[1m1s\u001b[0m 1ms/step - accuracy: 0.8434 - loss: 0.9749 - val_accuracy: 0.8323 - val_loss: 0.3790\n",
      "Epoch 44/1000\n",
      "\u001b[1m536/536\u001b[0m \u001b[32m━━━━━━━━━━━━━━━━━━━━\u001b[0m\u001b[37m\u001b[0m \u001b[1m1s\u001b[0m 1ms/step - accuracy: 0.8373 - loss: 1.0119 - val_accuracy: 0.8368 - val_loss: 0.3757\n",
      "Epoch 45/1000\n",
      "\u001b[1m536/536\u001b[0m \u001b[32m━━━━━━━━━━━━━━━━━━━━\u001b[0m\u001b[37m\u001b[0m \u001b[1m1s\u001b[0m 1ms/step - accuracy: 0.8423 - loss: 0.9601 - val_accuracy: 0.8360 - val_loss: 0.3747\n",
      "Epoch 46/1000\n",
      "\u001b[1m536/536\u001b[0m \u001b[32m━━━━━━━━━━━━━━━━━━━━\u001b[0m\u001b[37m\u001b[0m \u001b[1m1s\u001b[0m 1ms/step - accuracy: 0.8246 - loss: 1.0211 - val_accuracy: 0.8315 - val_loss: 0.3810\n",
      "Epoch 47/1000\n",
      "\u001b[1m536/536\u001b[0m \u001b[32m━━━━━━━━━━━━━━━━━━━━\u001b[0m\u001b[37m\u001b[0m \u001b[1m1s\u001b[0m 1ms/step - accuracy: 0.8347 - loss: 0.9289 - val_accuracy: 0.8391 - val_loss: 0.3724\n",
      "Epoch 48/1000\n",
      "\u001b[1m536/536\u001b[0m \u001b[32m━━━━━━━━━━━━━━━━━━━━\u001b[0m\u001b[37m\u001b[0m \u001b[1m1s\u001b[0m 1ms/step - accuracy: 0.8372 - loss: 0.9460 - val_accuracy: 0.8270 - val_loss: 0.3827\n",
      "Epoch 49/1000\n",
      "\u001b[1m536/536\u001b[0m \u001b[32m━━━━━━━━━━━━━━━━━━━━\u001b[0m\u001b[37m\u001b[0m \u001b[1m1s\u001b[0m 1ms/step - accuracy: 0.8423 - loss: 0.8821 - val_accuracy: 0.8345 - val_loss: 0.3776\n",
      "Epoch 50/1000\n",
      "\u001b[1m536/536\u001b[0m \u001b[32m━━━━━━━━━━━━━━━━━━━━\u001b[0m\u001b[37m\u001b[0m \u001b[1m1s\u001b[0m 1ms/step - accuracy: 0.8369 - loss: 0.9179 - val_accuracy: 0.8402 - val_loss: 0.3731\n",
      "Epoch 51/1000\n",
      "\u001b[1m536/536\u001b[0m \u001b[32m━━━━━━━━━━━━━━━━━━━━\u001b[0m\u001b[37m\u001b[0m \u001b[1m1s\u001b[0m 1ms/step - accuracy: 0.8328 - loss: 0.9655 - val_accuracy: 0.8368 - val_loss: 0.3812\n",
      "Epoch 52/1000\n",
      "\u001b[1m536/536\u001b[0m \u001b[32m━━━━━━━━━━━━━━━━━━━━\u001b[0m\u001b[37m\u001b[0m \u001b[1m1s\u001b[0m 1ms/step - accuracy: 0.8353 - loss: 1.0776 - val_accuracy: 0.8357 - val_loss: 0.3828\n",
      "Epoch 53/1000\n",
      "\u001b[1m536/536\u001b[0m \u001b[32m━━━━━━━━━━━━━━━━━━━━\u001b[0m\u001b[37m\u001b[0m \u001b[1m1s\u001b[0m 1ms/step - accuracy: 0.8362 - loss: 0.9417 - val_accuracy: 0.8402 - val_loss: 0.3734\n",
      "Epoch 54/1000\n",
      "\u001b[1m536/536\u001b[0m \u001b[32m━━━━━━━━━━━━━━━━━━━━\u001b[0m\u001b[37m\u001b[0m \u001b[1m1s\u001b[0m 1ms/step - accuracy: 0.8454 - loss: 0.9477 - val_accuracy: 0.8364 - val_loss: 0.3771\n",
      "Epoch 55/1000\n",
      "\u001b[1m536/536\u001b[0m \u001b[32m━━━━━━━━━━━━━━━━━━━━\u001b[0m\u001b[37m\u001b[0m \u001b[1m1s\u001b[0m 1ms/step - accuracy: 0.8418 - loss: 0.9531 - val_accuracy: 0.8364 - val_loss: 0.3766\n",
      "Epoch 56/1000\n",
      "\u001b[1m536/536\u001b[0m \u001b[32m━━━━━━━━━━━━━━━━━━━━\u001b[0m\u001b[37m\u001b[0m \u001b[1m1s\u001b[0m 1ms/step - accuracy: 0.8309 - loss: 1.0528 - val_accuracy: 0.8395 - val_loss: 0.3733\n",
      "Epoch 57/1000\n",
      "\u001b[1m536/536\u001b[0m \u001b[32m━━━━━━━━━━━━━━━━━━━━\u001b[0m\u001b[37m\u001b[0m \u001b[1m1s\u001b[0m 1ms/step - accuracy: 0.8518 - loss: 0.9664 - val_accuracy: 0.8421 - val_loss: 0.3720\n",
      "Epoch 58/1000\n",
      "\u001b[1m536/536\u001b[0m \u001b[32m━━━━━━━━━━━━━━━━━━━━\u001b[0m\u001b[37m\u001b[0m \u001b[1m1s\u001b[0m 1ms/step - accuracy: 0.8429 - loss: 0.9184 - val_accuracy: 0.8319 - val_loss: 0.3821\n",
      "Epoch 59/1000\n",
      "\u001b[1m536/536\u001b[0m \u001b[32m━━━━━━━━━━━━━━━━━━━━\u001b[0m\u001b[37m\u001b[0m \u001b[1m1s\u001b[0m 1ms/step - accuracy: 0.8402 - loss: 0.8902 - val_accuracy: 0.8459 - val_loss: 0.3687\n",
      "Epoch 60/1000\n",
      "\u001b[1m536/536\u001b[0m \u001b[32m━━━━━━━━━━━━━━━━━━━━\u001b[0m\u001b[37m\u001b[0m \u001b[1m1s\u001b[0m 1ms/step - accuracy: 0.8310 - loss: 1.0246 - val_accuracy: 0.8466 - val_loss: 0.3621\n",
      "Epoch 61/1000\n",
      "\u001b[1m536/536\u001b[0m \u001b[32m━━━━━━━━━━━━━━━━━━━━\u001b[0m\u001b[37m\u001b[0m \u001b[1m1s\u001b[0m 1ms/step - accuracy: 0.8393 - loss: 0.9487 - val_accuracy: 0.8402 - val_loss: 0.3780\n",
      "Epoch 62/1000\n",
      "\u001b[1m536/536\u001b[0m \u001b[32m━━━━━━━━━━━━━━━━━━━━\u001b[0m\u001b[37m\u001b[0m \u001b[1m1s\u001b[0m 1ms/step - accuracy: 0.8431 - loss: 0.9163 - val_accuracy: 0.8304 - val_loss: 0.3814\n",
      "Epoch 63/1000\n",
      "\u001b[1m536/536\u001b[0m \u001b[32m━━━━━━━━━━━━━━━━━━━━\u001b[0m\u001b[37m\u001b[0m \u001b[1m1s\u001b[0m 1ms/step - accuracy: 0.8483 - loss: 0.9550 - val_accuracy: 0.8383 - val_loss: 0.3742\n",
      "Epoch 64/1000\n",
      "\u001b[1m536/536\u001b[0m \u001b[32m━━━━━━━━━━━━━━━━━━━━\u001b[0m\u001b[37m\u001b[0m \u001b[1m1s\u001b[0m 1ms/step - accuracy: 0.8335 - loss: 1.0014 - val_accuracy: 0.8391 - val_loss: 0.3735\n",
      "Epoch 65/1000\n",
      "\u001b[1m536/536\u001b[0m \u001b[32m━━━━━━━━━━━━━━━━━━━━\u001b[0m\u001b[37m\u001b[0m \u001b[1m1s\u001b[0m 1ms/step - accuracy: 0.8430 - loss: 0.9461 - val_accuracy: 0.8440 - val_loss: 0.3664\n",
      "Epoch 66/1000\n",
      "\u001b[1m536/536\u001b[0m \u001b[32m━━━━━━━━━━━━━━━━━━━━\u001b[0m\u001b[37m\u001b[0m \u001b[1m1s\u001b[0m 1ms/step - accuracy: 0.8380 - loss: 0.9528 - val_accuracy: 0.8421 - val_loss: 0.3708\n",
      "Epoch 67/1000\n",
      "\u001b[1m536/536\u001b[0m \u001b[32m━━━━━━━━━━━━━━━━━━━━\u001b[0m\u001b[37m\u001b[0m \u001b[1m1s\u001b[0m 1ms/step - accuracy: 0.8366 - loss: 0.8560 - val_accuracy: 0.8349 - val_loss: 0.3775\n",
      "Epoch 68/1000\n",
      "\u001b[1m536/536\u001b[0m \u001b[32m━━━━━━━━━━━━━━━━━━━━\u001b[0m\u001b[37m\u001b[0m \u001b[1m1s\u001b[0m 1ms/step - accuracy: 0.8329 - loss: 0.9710 - val_accuracy: 0.8398 - val_loss: 0.3744\n",
      "Epoch 69/1000\n",
      "\u001b[1m536/536\u001b[0m \u001b[32m━━━━━━━━━━━━━━━━━━━━\u001b[0m\u001b[37m\u001b[0m \u001b[1m1s\u001b[0m 1ms/step - accuracy: 0.8403 - loss: 0.9313 - val_accuracy: 0.8413 - val_loss: 0.3698\n",
      "Epoch 70/1000\n",
      "\u001b[1m536/536\u001b[0m \u001b[32m━━━━━━━━━━━━━━━━━━━━\u001b[0m\u001b[37m\u001b[0m \u001b[1m1s\u001b[0m 1ms/step - accuracy: 0.8418 - loss: 0.9788 - val_accuracy: 0.8345 - val_loss: 0.3788\n",
      "Epoch 71/1000\n",
      "\u001b[1m536/536\u001b[0m \u001b[32m━━━━━━━━━━━━━━━━━━━━\u001b[0m\u001b[37m\u001b[0m \u001b[1m1s\u001b[0m 1ms/step - accuracy: 0.8357 - loss: 0.9944 - val_accuracy: 0.8413 - val_loss: 0.3747\n",
      "Epoch 72/1000\n",
      "\u001b[1m536/536\u001b[0m \u001b[32m━━━━━━━━━━━━━━━━━━━━\u001b[0m\u001b[37m\u001b[0m \u001b[1m1s\u001b[0m 1ms/step - accuracy: 0.8205 - loss: 1.0347 - val_accuracy: 0.8360 - val_loss: 0.3787\n",
      "Epoch 73/1000\n",
      "\u001b[1m536/536\u001b[0m \u001b[32m━━━━━━━━━━━━━━━━━━━━\u001b[0m\u001b[37m\u001b[0m \u001b[1m1s\u001b[0m 1ms/step - accuracy: 0.8378 - loss: 0.9655 - val_accuracy: 0.8455 - val_loss: 0.3687\n",
      "Epoch 74/1000\n",
      "\u001b[1m536/536\u001b[0m \u001b[32m━━━━━━━━━━━━━━━━━━━━\u001b[0m\u001b[37m\u001b[0m \u001b[1m1s\u001b[0m 1ms/step - accuracy: 0.8442 - loss: 0.8804 - val_accuracy: 0.8451 - val_loss: 0.3733\n",
      "Epoch 75/1000\n",
      "\u001b[1m536/536\u001b[0m \u001b[32m━━━━━━━━━━━━━━━━━━━━\u001b[0m\u001b[37m\u001b[0m \u001b[1m1s\u001b[0m 1ms/step - accuracy: 0.8447 - loss: 0.9243 - val_accuracy: 0.8459 - val_loss: 0.3677\n",
      "Epoch 76/1000\n",
      "\u001b[1m536/536\u001b[0m \u001b[32m━━━━━━━━━━━━━━━━━━━━\u001b[0m\u001b[37m\u001b[0m \u001b[1m1s\u001b[0m 1ms/step - accuracy: 0.8341 - loss: 0.9205 - val_accuracy: 0.8417 - val_loss: 0.3690\n",
      "Epoch 77/1000\n",
      "\u001b[1m536/536\u001b[0m \u001b[32m━━━━━━━━━━━━━━━━━━━━\u001b[0m\u001b[37m\u001b[0m \u001b[1m1s\u001b[0m 1ms/step - accuracy: 0.8398 - loss: 0.8219 - val_accuracy: 0.8429 - val_loss: 0.3663\n",
      "Epoch 78/1000\n",
      "\u001b[1m536/536\u001b[0m \u001b[32m━━━━━━━━━━━━━━━━━━━━\u001b[0m\u001b[37m\u001b[0m \u001b[1m1s\u001b[0m 1ms/step - accuracy: 0.8399 - loss: 0.9297 - val_accuracy: 0.8478 - val_loss: 0.3646\n",
      "Epoch 79/1000\n",
      "\u001b[1m536/536\u001b[0m \u001b[32m━━━━━━━━━━━━━━━━━━━━\u001b[0m\u001b[37m\u001b[0m \u001b[1m1s\u001b[0m 1ms/step - accuracy: 0.8397 - loss: 0.8561 - val_accuracy: 0.8417 - val_loss: 0.3704\n",
      "Epoch 80/1000\n",
      "\u001b[1m536/536\u001b[0m \u001b[32m━━━━━━━━━━━━━━━━━━━━\u001b[0m\u001b[37m\u001b[0m \u001b[1m1s\u001b[0m 1ms/step - accuracy: 0.8467 - loss: 0.9339 - val_accuracy: 0.8406 - val_loss: 0.3711\n",
      "Epoch 80: early stopping\n"
     ]
    }
   ],
   "source": [
    "model_history = classifier.fit(X_train,Y_train,validation_split = 0.33,batch_size =10,epochs=1000,callbacks=early_stopping)"
   ]
  },
  {
   "cell_type": "code",
   "execution_count": 69,
   "id": "fdb7659e-8606-482b-9129-32fa08e40cae",
   "metadata": {},
   "outputs": [
    {
     "data": {
      "text/plain": [
       "dict_keys(['accuracy', 'loss', 'val_accuracy', 'val_loss'])"
      ]
     },
     "execution_count": 69,
     "metadata": {},
     "output_type": "execute_result"
    }
   ],
   "source": [
    "model_history.history.keys()"
   ]
  },
  {
   "cell_type": "code",
   "execution_count": 70,
   "id": "72c16199-6aa4-4269-9924-0acf4c51c0df",
   "metadata": {},
   "outputs": [
    {
     "data": {
      "image/png": "[encoded data removed]",
      "text/plain": [
       "<Figure size 640x480 with 1 Axes>"
      ]
     },
     "metadata": {},
     "output_type": "display_data"
    }
   ],
   "source": [
    "##Summarize history for accuracy\n",
    "plt.plot(model_history.history['accuracy'])\n",
    "plt.plot(model_history.history['val_accuracy'])\n",
    "plt.title('model_accuracy')\n",
    "plt.ylabel('accuracy')\n",
    "plt.xlabel('epoch')\n",
    "plt.legend(['train', 'test'], loc='upper left')\n",
    "plt.show()"
   ]
  },
  {
   "cell_type": "code",
   "execution_count": 71,
   "id": "6c130a57-31e8-4bdb-8398-86b7e80c05e3",
   "metadata": {},
   "outputs": [
    {
     "data": {
      "image/png": "[encoded data removed]",
      "text/plain": [
       "<Figure size 640x480 with 1 Axes>"
      ]
     },
     "metadata": {},
     "output_type": "display_data"
    }
   ],
   "source": [
    "plt.plot(model_history.history['loss'])\n",
    "plt.plot(model_history.history['val_loss'])\n",
    "plt.title('model_loss')\n",
    "plt.ylabel('loss')\n",
    "plt.xlabel('epoch')\n",
    "plt.legend(['train', 'test'], loc='upper left')\n",
    "plt.show()"
   ]
  },
  {
   "cell_type": "code",
   "execution_count": 72,
   "id": "ce887269-1b06-4cbc-8af3-26f1e12ce0e9",
   "metadata": {},
   "outputs": [
    {
     "name": "stdout",
     "output_type": "stream",
     "text": [
      "\u001b[1m63/63\u001b[0m \u001b[32m━━━━━━━━━━━━━━━━━━━━\u001b[0m\u001b[37m\u001b[0m \u001b[1m0s\u001b[0m 1ms/step\n"
     ]
    }
   ],
   "source": [
    "##Part3 - Making the predictions and evaluating the model\n",
    "##predicting the test set results\n",
    "\n",
    "y_pred = classifier.predict(X_test)\n",
    "y_pred = (y_pred >=0.5)"
   ]
  },
  {
   "cell_type": "code",
   "execution_count": 73,
   "id": "c22be53f-5dfe-4e5a-8138-bd10110223de",
   "metadata": {},
   "outputs": [
    {
     "data": {
      "text/plain": [
       "array([[1581,   14],\n",
       "       [ 279,  126]], dtype=int64)"
      ]
     },
     "execution_count": 73,
     "metadata": {},
     "output_type": "execute_result"
    }
   ],
   "source": [
    "##make the confusion matrix\n",
    "from sklearn.metrics import confusion_matrix\n",
    "cm = confusion_matrix(Y_test,y_pred)\n",
    "cm"
   ]
  },
  {
   "cell_type": "code",
   "execution_count": 74,
   "id": "0808982a-f83f-43fd-8d58-330c82b59abe",
   "metadata": {},
   "outputs": [],
   "source": [
    "#calculate the accuracy\n",
    "from sklearn.metrics import accuracy_score\n",
    "score = accuracy_score(y_pred, Y_test)"
   ]
  },
  {
   "cell_type": "code",
   "execution_count": 75,
   "id": "1e289947-6c8f-4846-a2b2-655f487b532e",
   "metadata": {},
   "outputs": [
    {
     "data": {
      "text/plain": [
       "0.8535"
      ]
     },
     "execution_count": 75,
     "metadata": {},
     "output_type": "execute_result"
    }
   ],
   "source": [
    "score"
   ]
  },
  {
   "cell_type": "code",
   "execution_count": 76,
   "id": "be6e0dde-9372-46c1-aec1-f5b365bb5053",
   "metadata": {},
   "outputs": [
    {
     "data": {
      "text/plain": [
       "[array([[-5.0469454e-02,  1.1344423e-01, -1.3139778e-01, -8.0038086e-02,\n",
       "         -1.1253318e-01,  9.4510632e-04,  8.9013383e-02, -8.4784314e-02,\n",
       "         -1.1492493e-01, -1.0189339e-01, -1.8409194e-01],\n",
       "        [ 4.0790340e-01,  6.3433015e-01, -3.4465465e-01,  4.1529855e-01,\n",
       "         -2.1674043e-02, -8.2758552e-01,  9.2506614e-03, -4.2419893e-01,\n",
       "          4.4479164e-01,  7.1290314e-01, -3.6031461e-01],\n",
       "        [ 2.3599546e-02, -5.1736534e-03, -9.5551267e-02, -1.2737076e-01,\n",
       "         -5.2240565e-02, -2.0148313e-01,  1.6725992e-01,  1.4261250e-01,\n",
       "         -1.6543031e-01, -3.5348912e-03,  2.0913502e-02],\n",
       "        [-5.0168574e-01, -4.7479177e-01,  6.8567079e-01,  5.3560972e-01,\n",
       "         -2.5912562e-01, -1.7411514e-01, -2.5568649e-01, -2.0583205e-01,\n",
       "         -4.9203011e-01,  7.1579844e-02, -2.2060950e-01],\n",
       "        [-1.1707608e+00, -2.6903275e-01,  4.8154286e-01,  9.9806756e-01,\n",
       "         -3.4710798e-01,  4.5134237e-01,  6.3721046e-02,  6.9069219e-01,\n",
       "         -3.1512341e-01,  4.3312073e-01,  3.0974913e-01],\n",
       "        [-1.0206580e-01, -3.3364299e-01, -1.7283533e-02, -6.3983895e-02,\n",
       "         -6.3277125e-02, -9.7283043e-02, -3.3828672e-02,  1.9711629e-01,\n",
       "         -9.4642617e-02, -6.3387798e-03, -2.6884872e-01],\n",
       "        [-1.8780692e-01, -7.3799473e-01,  1.7897750e-01, -4.1249797e-01,\n",
       "          1.8380952e-01, -6.4826733e-01,  2.4772479e-01,  4.8876813e-01,\n",
       "         -2.6468533e-01,  3.5659647e-01, -2.3898436e-01],\n",
       "        [ 1.2929375e-01, -9.8134622e-02, -7.4920818e-02, -3.2117888e-02,\n",
       "          3.4292760e-01,  1.4690777e-02, -1.3358340e-01, -7.2797770e-03,\n",
       "         -3.7345551e-03, -7.9816438e-02, -2.8730905e-01],\n",
       "        [ 3.1685370e-01, -9.9289067e-02,  3.6460087e-02, -9.8271906e-02,\n",
       "          2.4489398e-01, -4.9904272e-02, -3.0272129e-01,  2.7628034e-01,\n",
       "          3.2432020e-01, -5.3923257e-02, -5.2622485e-01],\n",
       "        [ 6.6017322e-02,  7.7568814e-02, -5.1298392e-01,  7.3542476e-02,\n",
       "         -2.9613059e-02, -2.3025352e-01,  1.8465771e-01, -1.7046331e-01,\n",
       "         -2.1805179e-01, -5.0574563e-02, -4.5067728e-01],\n",
       "        [ 1.4782774e-01,  1.3636978e-01, -2.0751339e-01, -1.0797614e-01,\n",
       "          4.2532548e-01,  2.0673479e-01,  3.6309081e-01,  1.4285897e-01,\n",
       "          1.3470857e-01,  7.6306231e-02,  7.3847943e-03]], dtype=float32),\n",
       " array([-0.00353278, -0.02109001, -0.3468648 , -0.27074176,  0.1930164 ,\n",
       "         0.547702  ,  0.43240398,  0.07814022,  0.2564899 , -0.6651013 ,\n",
       "         0.05830695], dtype=float32),\n",
       " array([[-0.74183494, -0.0056047 , -1.4935801 , -0.7849377 , -0.73142934,\n",
       "         -0.05265797, -0.00676641],\n",
       "        [ 0.30261552,  0.34268153,  0.20979513, -0.07721972,  0.3064025 ,\n",
       "          0.20092292,  0.40339303],\n",
       "        [-0.40574557, -0.7528547 , -0.03034579, -0.30030167,  0.34959444,\n",
       "         -0.5321339 ,  0.08097212],\n",
       "        [-0.91947603,  0.6200197 ,  0.69623977, -1.0316281 , -0.370486  ,\n",
       "         -0.34698313, -0.08000256],\n",
       "        [ 0.31850016,  0.3405375 , -0.30577123,  0.26361284,  0.3718108 ,\n",
       "         -0.01789019, -0.05911242],\n",
       "        [ 0.13311514, -0.9230961 , -0.02886165,  0.11514698,  0.10378385,\n",
       "          0.2689319 , -0.60282135],\n",
       "        [ 0.22286567, -0.27017787, -0.08062349,  0.32343766,  0.31660867,\n",
       "         -0.3117678 , -0.28712147],\n",
       "        [ 0.16732095, -0.8322547 ,  0.44285575,  0.40697062, -0.13531989,\n",
       "         -0.14270417, -0.14844128],\n",
       "        [-0.02277249,  0.3643836 , -0.389562  ,  0.19907042, -0.15793078,\n",
       "         -0.03368987,  0.5047473 ],\n",
       "        [ 0.3766855 , -0.8107581 ,  0.13502146, -0.8521975 , -0.7292001 ,\n",
       "          0.97658414, -0.7224684 ],\n",
       "        [ 0.07822245, -0.02994577, -0.07392465,  0.0780176 ,  0.05451619,\n",
       "         -0.8473544 , -0.5724893 ]], dtype=float32),\n",
       " array([ 0.33028823,  0.03142645, -0.78383523,  0.32722464,  0.47912815,\n",
       "        -0.39820763,  0.32375452], dtype=float32),\n",
       " array([[ 0.5155356 , -0.393173  , -0.4822506 , -1.467865  , -1.3993092 ,\n",
       "          0.39706972],\n",
       "        [-0.7714547 ,  0.5675112 , -0.2665955 ,  0.7154758 ,  0.26600438,\n",
       "         -0.81124043],\n",
       "        [-0.0477765 ,  1.0759393 ,  0.88974226, -0.8500736 , -1.7494605 ,\n",
       "         -0.05817402],\n",
       "        [ 0.4461154 ,  0.0475889 ,  0.11754064, -0.8223388 , -1.6967157 ,\n",
       "          0.41345218],\n",
       "        [ 0.35310856, -0.42870432, -0.2473546 , -0.56143767, -1.0192118 ,\n",
       "          0.36521286],\n",
       "        [ 0.72541714, -0.665529  , -0.83520824, -0.905902  , -0.60151863,\n",
       "          0.816838  ],\n",
       "        [-0.82176673, -0.19823793,  0.6689331 ,  0.4251957 , -0.06662331,\n",
       "         -0.81739837]], dtype=float32),\n",
       " array([ 0.11350328, -0.15600121, -0.3347927 ,  0.354774  ,  0.50630766,\n",
       "         0.07876726], dtype=float32),\n",
       " array([[-0.8710015 ],\n",
       "        [ 0.82102007],\n",
       "        [ 1.2777766 ],\n",
       "        [ 0.31966022],\n",
       "        [ 0.68806577],\n",
       "        [-0.95139223]], dtype=float32),\n",
       " array([-1.4871976], dtype=float32)]"
      ]
     },
     "execution_count": 76,
     "metadata": {},
     "output_type": "execute_result"
    }
   ],
   "source": [
    "##get the weights\n",
    "classifier.get_weights()"
   ]
  },
  {
   "cell_type": "code",
   "execution_count": null,
   "id": "758caae2-8cba-4123-aad8-c7c319a55f8f",
   "metadata": {},
   "outputs": [],
   "source": []
  },
  {
   "cell_type": "code",
   "execution_count": null,
   "id": "bb9bab48-f0bd-4063-91f5-bf5fdbeb8533",
   "metadata": {},
   "outputs": [],
   "source": []
  }
 ],
 "metadata": {
  "kernelspec": {
   "display_name": "Python 3 (ipykernel)",
   "language": "python",
   "name": "python3"
  },
  "language_info": {
   "codemirror_mode": {
    "name": "ipython",
    "version": 3
   },
   "file_extension": ".py",
   "mimetype": "text/x-python",
   "name": "python",
   "nbconvert_exporter": "python",
   "pygments_lexer": "ipython3",
   "version": "3.11.7"
  }
 },
 "nbformat": 4,
 "nbformat_minor": 5
}
