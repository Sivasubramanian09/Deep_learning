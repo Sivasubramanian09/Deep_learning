{
 "cells": [
  {
   "cell_type": "code",
   "execution_count": 1,
   "id": "94248561-57e1-4934-8d16-0cb8b68db148",
   "metadata": {},
   "outputs": [],
   "source": [
    "#Pytorch Basics"
   ]
  },
  {
   "cell_type": "code",
   "execution_count": 2,
   "id": "6d00c9c2-ae96-4ff9-af3a-c47c4c76b78a",
   "metadata": {},
   "outputs": [],
   "source": [
    "import torch"
   ]
  },
  {
   "cell_type": "code",
   "execution_count": 6,
   "id": "9f1c25e7-1933-4b99-a86c-ee9123994ebe",
   "metadata": {},
   "outputs": [],
   "source": [
    "device = 'cuda' if torch.cuda.is_available() else 'cpu'"
   ]
  },
  {
   "cell_type": "code",
   "execution_count": 9,
   "id": "1c3334d9-2ac5-4e3c-bb7e-84833e3ca3fc",
   "metadata": {},
   "outputs": [],
   "source": [
    "my_tensor = torch.tensor([[1,2,3],[4,5,6]],dtype = torch.float32,device = device, requires_grad = True)"
   ]
  },
  {
   "cell_type": "code",
   "execution_count": 10,
   "id": "bb62d84b-efb0-4199-ba6a-40c062815f00",
   "metadata": {},
   "outputs": [
    {
     "name": "stdout",
     "output_type": "stream",
     "text": [
      "tensor([[1., 2., 3.],\n",
      "        [4., 5., 6.]], requires_grad=True)\n"
     ]
    }
   ],
   "source": [
    "print(my_tensor)"
   ]
  },
  {
   "cell_type": "code",
   "execution_count": 11,
   "id": "767a5c7b-8e2f-4e0a-95d4-48b67626ffcd",
   "metadata": {},
   "outputs": [
    {
     "name": "stdout",
     "output_type": "stream",
     "text": [
      "cpu\n"
     ]
    }
   ],
   "source": [
    "print(my_tensor.device)"
   ]
  },
  {
   "cell_type": "code",
   "execution_count": 15,
   "id": "ab35cf42-af5c-4584-aa29-080093dbd160",
   "metadata": {},
   "outputs": [],
   "source": [
    "x = torch.empty(size = (3,3))"
   ]
  },
  {
   "cell_type": "code",
   "execution_count": 16,
   "id": "18a2be37-8260-47b0-9f78-e06fdae11a8c",
   "metadata": {},
   "outputs": [
    {
     "name": "stdout",
     "output_type": "stream",
     "text": [
      "tensor([[0., 0., 0.],\n",
      "        [0., 0., 0.],\n",
      "        [0., 0., 0.]])\n"
     ]
    }
   ],
   "source": [
    "print(x)"
   ]
  },
  {
   "cell_type": "code",
   "execution_count": 13,
   "id": "ddeb9990-f791-46b9-af41-1ff816d85f0f",
   "metadata": {},
   "outputs": [],
   "source": [
    "x = torch.zeros((3,3))"
   ]
  },
  {
   "cell_type": "code",
   "execution_count": 14,
   "id": "c3393361-6812-4a48-b087-b143609ed536",
   "metadata": {},
   "outputs": [
    {
     "name": "stdout",
     "output_type": "stream",
     "text": [
      "tensor([[0., 0., 0.],\n",
      "        [0., 0., 0.],\n",
      "        [0., 0., 0.]])\n"
     ]
    }
   ],
   "source": [
    "print(x)"
   ]
  },
  {
   "cell_type": "code",
   "execution_count": 17,
   "id": "8c91f24d-bf7e-4a73-b658-0420e46cc164",
   "metadata": {},
   "outputs": [],
   "source": [
    "x = torch.eye(5,5)"
   ]
  },
  {
   "cell_type": "code",
   "execution_count": 18,
   "id": "70070423-346a-45ea-a85a-7934e95a8ed3",
   "metadata": {},
   "outputs": [
    {
     "name": "stdout",
     "output_type": "stream",
     "text": [
      "tensor([[1., 0., 0., 0., 0.],\n",
      "        [0., 1., 0., 0., 0.],\n",
      "        [0., 0., 1., 0., 0.],\n",
      "        [0., 0., 0., 1., 0.],\n",
      "        [0., 0., 0., 0., 1.]])\n"
     ]
    }
   ],
   "source": [
    "print(x)"
   ]
  },
  {
   "cell_type": "code",
   "execution_count": 20,
   "id": "ee4a13bb-5efc-4bc9-8315-0c03dcb6bbb7",
   "metadata": {},
   "outputs": [],
   "source": [
    "x =torch.linspace(start = 0.2, end = 2, steps = 10)"
   ]
  },
  {
   "cell_type": "code",
   "execution_count": 21,
   "id": "856cfa66-94e9-4a39-8551-a34ec1e43b23",
   "metadata": {},
   "outputs": [
    {
     "name": "stdout",
     "output_type": "stream",
     "text": [
      "tensor([0.2000, 0.4000, 0.6000, 0.8000, 1.0000, 1.2000, 1.4000, 1.6000, 1.8000,\n",
      "        2.0000])\n"
     ]
    }
   ],
   "source": [
    "print(x)"
   ]
  },
  {
   "cell_type": "code",
   "execution_count": 22,
   "id": "e9953477-ce82-4fa6-9d90-ab993bfbb844",
   "metadata": {},
   "outputs": [
    {
     "name": "stdout",
     "output_type": "stream",
     "text": [
      "tensor([[0.0872, 0.5704, 0.5322],\n",
      "        [0.6807, 0.1709, 0.8543],\n",
      "        [0.8629, 0.4525, 0.8560]])\n"
     ]
    }
   ],
   "source": [
    "x = torch.rand((3,3))\n",
    "print(x)"
   ]
  },
  {
   "cell_type": "code",
   "execution_count": 24,
   "id": "da62c97f-2c51-4d21-ba2e-973416e76fb2",
   "metadata": {},
   "outputs": [
    {
     "name": "stdout",
     "output_type": "stream",
     "text": [
      "tensor([5, 6, 7, 8, 9])\n"
     ]
    }
   ],
   "source": [
    "x = torch.arange(start=5, end =10, step=1)\n",
    "print(x)"
   ]
  },
  {
   "cell_type": "code",
   "execution_count": 25,
   "id": "489b8451-5f06-4b4e-aba0-709ec95a7670",
   "metadata": {},
   "outputs": [
    {
     "name": "stdout",
     "output_type": "stream",
     "text": [
      "tensor([[1., 0., 0.],\n",
      "        [0., 1., 0.],\n",
      "        [0., 0., 1.]])\n"
     ]
    }
   ],
   "source": [
    "x = torch.diag(torch.ones(3))\n",
    "print(x)"
   ]
  },
  {
   "cell_type": "code",
   "execution_count": 26,
   "id": "41d6b042-5736-4c6b-b178-c7edf0fe76a7",
   "metadata": {},
   "outputs": [],
   "source": [
    "## Converting the tensors to other types"
   ]
  },
  {
   "cell_type": "code",
   "execution_count": 27,
   "id": "61a33cac-0343-4dc1-95d9-d9dac5b8fcdb",
   "metadata": {},
   "outputs": [
    {
     "name": "stdout",
     "output_type": "stream",
     "text": [
      "tensor([False,  True,  True,  True])\n",
      "tensor([0, 1, 2, 3], dtype=torch.int16)\n",
      "tensor([0, 1, 2, 3])\n",
      "tensor([0., 1., 2., 3.], dtype=torch.float16)\n",
      "tensor([0., 1., 2., 3.])\n",
      "tensor([0., 1., 2., 3.], dtype=torch.float64)\n"
     ]
    }
   ],
   "source": [
    "tensor = torch.arange(4)\n",
    "print(tensor.bool())\n",
    "print(tensor.short())\n",
    "print(tensor.long())\n",
    "print(tensor.half())\n",
    "print(tensor.float())\n",
    "print(tensor.double())"
   ]
  },
  {
   "cell_type": "code",
   "execution_count": 28,
   "id": "c2c7c8f2-ec61-44b3-98cb-a4e6edf92c4f",
   "metadata": {},
   "outputs": [],
   "source": [
    "##Maths Operations"
   ]
  },
  {
   "cell_type": "code",
   "execution_count": 29,
   "id": "f0b00544-8983-40dc-afaa-1dc30d77448c",
   "metadata": {},
   "outputs": [],
   "source": [
    "x = torch.tensor([1,2,3])\n",
    "y = torch.tensor([9,8,7])"
   ]
  },
  {
   "cell_type": "code",
   "execution_count": 30,
   "id": "0ffbf05e-87ea-4071-bac7-fc775b37126f",
   "metadata": {},
   "outputs": [
    {
     "name": "stdout",
     "output_type": "stream",
     "text": [
      "tensor([10., 10., 10.])\n"
     ]
    }
   ],
   "source": [
    "#Addition \n",
    "z = torch.empty(3)\n",
    "torch.add(x,y,out=z)\n",
    "print(z)"
   ]
  },
  {
   "cell_type": "code",
   "execution_count": 31,
   "id": "f975d7e3-b79b-44d6-bff5-a9efb570b4c4",
   "metadata": {},
   "outputs": [],
   "source": [
    "z=x+y"
   ]
  },
  {
   "cell_type": "code",
   "execution_count": 32,
   "id": "e7db9766-3d20-489b-a3a3-2322be8a6312",
   "metadata": {},
   "outputs": [
    {
     "name": "stdout",
     "output_type": "stream",
     "text": [
      "tensor([10, 10, 10])\n"
     ]
    }
   ],
   "source": [
    "print(z)"
   ]
  },
  {
   "cell_type": "code",
   "execution_count": 33,
   "id": "58b56cfb-31a9-4efc-a582-cb8fbed44940",
   "metadata": {},
   "outputs": [
    {
     "name": "stdout",
     "output_type": "stream",
     "text": [
      "tensor([-8, -6, -4])\n"
     ]
    }
   ],
   "source": [
    "#Subtraction\n",
    "z= x-y\n",
    "print(z)"
   ]
  },
  {
   "cell_type": "code",
   "execution_count": 35,
   "id": "ed27b03a-7b42-463e-980b-76efa38061f7",
   "metadata": {},
   "outputs": [
    {
     "name": "stdout",
     "output_type": "stream",
     "text": [
      "tensor([0.1111, 0.2500, 0.4286])\n"
     ]
    }
   ],
   "source": [
    "#Division\n",
    "z = torch.true_divide(x,y)\n",
    "print(z)"
   ]
  },
  {
   "cell_type": "code",
   "execution_count": 37,
   "id": "faa4a903-fc2e-4728-b5e6-2039b0f57d5e",
   "metadata": {},
   "outputs": [
    {
     "name": "stdout",
     "output_type": "stream",
     "text": [
      "tensor([2., 4., 6.])\n"
     ]
    }
   ],
   "source": [
    "#Inplace operations\n",
    "t = torch.zeros(3)\n",
    "t.add_(x)\n",
    "t += x\n",
    "print(t)"
   ]
  },
  {
   "cell_type": "code",
   "execution_count": 39,
   "id": "9b2f045f-ea74-46df-81b1-fd80f76a178b",
   "metadata": {},
   "outputs": [
    {
     "name": "stdout",
     "output_type": "stream",
     "text": [
      "tensor([1, 4, 9])\n"
     ]
    }
   ],
   "source": [
    "#Exponentiation\n",
    "Z = x.pow(2)\n",
    "z = x**2\n",
    "print(z)"
   ]
  },
  {
   "cell_type": "code",
   "execution_count": 40,
   "id": "bc0a172b-a577-486a-b212-c725c87af357",
   "metadata": {},
   "outputs": [],
   "source": [
    "#Simple comparison\n",
    "z = x > 0\n",
    "z = x < 0\n"
   ]
  },
  {
   "cell_type": "code",
   "execution_count": 46,
   "id": "56a36d45-5ef1-4ac4-ad12-2992a9e26844",
   "metadata": {},
   "outputs": [
    {
     "name": "stdout",
     "output_type": "stream",
     "text": [
      "tensor([[1.1239, 2.2465, 1.5674],\n",
      "        [1.1159, 2.0936, 1.7787]]) tensor([[1.1239, 2.2465, 1.5674],\n",
      "        [1.1159, 2.0936, 1.7787]])\n"
     ]
    }
   ],
   "source": [
    "#Matrix Multiplication\n",
    "x1 = torch.rand(2,5)\n",
    "x2 = torch.rand(5,3)\n",
    "x3 = torch.mm(x1,x2)\n",
    "x4 = x1.mm(x2)\n",
    "print(x3,x4)"
   ]
  },
  {
   "cell_type": "code",
   "execution_count": 47,
   "id": "ce7c2f8a-f772-4111-9401-c9cd09e1f980",
   "metadata": {},
   "outputs": [],
   "source": [
    "##Reshaping"
   ]
  },
  {
   "cell_type": "code",
   "execution_count": 49,
   "id": "5e773060-e291-4ee8-8291-a0aae6830f48",
   "metadata": {},
   "outputs": [
    {
     "name": "stdout",
     "output_type": "stream",
     "text": [
      "tensor([[0, 1, 2],\n",
      "        [3, 4, 5],\n",
      "        [6, 7, 8]])\n",
      "tensor([[0, 1, 2],\n",
      "        [3, 4, 5],\n",
      "        [6, 7, 8]])\n"
     ]
    }
   ],
   "source": [
    "x = torch.arange(9)\n",
    "\n",
    "x_3x3 = x.view(3,3)\n",
    "print(x_3x3)\n",
    "x_3x3 = x.reshape(3,3)\n",
    "print(x_3x3) "
   ]
  },
  {
   "cell_type": "code",
   "execution_count": 50,
   "id": "98579dd3-c40a-44de-a396-2a91e21238f3",
   "metadata": {},
   "outputs": [],
   "source": [
    "y = x_3x3.t()"
   ]
  },
  {
   "cell_type": "code",
   "execution_count": 55,
   "id": "7a5f3f69-167d-4623-8f13-c84f58dfbab0",
   "metadata": {},
   "outputs": [
    {
     "name": "stdout",
     "output_type": "stream",
     "text": [
      "tensor([0, 3, 6, 1, 4, 7, 2, 5, 8])\n"
     ]
    }
   ],
   "source": [
    "print(y.contiguous().view(9))"
   ]
  },
  {
   "cell_type": "code",
   "execution_count": 56,
   "id": "78207dee-099f-4f9e-9461-ba41f85b7e13",
   "metadata": {},
   "outputs": [],
   "source": [
    "x1 = torch.rand((2,5))"
   ]
  },
  {
   "cell_type": "code",
   "execution_count": 57,
   "id": "33497949-42e3-4870-acef-110f99579054",
   "metadata": {},
   "outputs": [],
   "source": [
    "x2 = torch.rand((2,5))"
   ]
  },
  {
   "cell_type": "code",
   "execution_count": 58,
   "id": "d286a105-ca62-45e2-aa99-92ad53208781",
   "metadata": {},
   "outputs": [
    {
     "name": "stdout",
     "output_type": "stream",
     "text": [
      "torch.Size([4, 5])\n"
     ]
    }
   ],
   "source": [
    "print(torch.cat((x1,x2), dim=0).shape)"
   ]
  },
  {
   "cell_type": "code",
   "execution_count": 59,
   "id": "3acf017d-3f91-4138-b4c7-bd28b709b544",
   "metadata": {},
   "outputs": [
    {
     "name": "stdout",
     "output_type": "stream",
     "text": [
      "torch.Size([2, 10])\n"
     ]
    }
   ],
   "source": [
    "print(torch.cat((x1,x2), dim=1).shape)"
   ]
  },
  {
   "cell_type": "code",
   "execution_count": 62,
   "id": "57699cbf-1117-4724-a96d-7016cb0edc0b",
   "metadata": {},
   "outputs": [
    {
     "name": "stdout",
     "output_type": "stream",
     "text": [
      "torch.Size([1, 10])\n"
     ]
    }
   ],
   "source": [
    "print((x1.view(1,-1)).shape)"
   ]
  },
  {
   "cell_type": "code",
   "execution_count": null,
   "id": "277babf6-975a-4e71-88b4-9ae89b79a81f",
   "metadata": {},
   "outputs": [],
   "source": []
  }
 ],
 "metadata": {
  "kernelspec": {
   "display_name": "Python 3 (ipykernel)",
   "language": "python",
   "name": "python3"
  },
  "language_info": {
   "codemirror_mode": {
    "name": "ipython",
    "version": 3
   },
   "file_extension": ".py",
   "mimetype": "text/x-python",
   "name": "python",
   "nbconvert_exporter": "python",
   "pygments_lexer": "ipython3",
   "version": "3.11.7"
  }
 },
 "nbformat": 4,
 "nbformat_minor": 5
}
