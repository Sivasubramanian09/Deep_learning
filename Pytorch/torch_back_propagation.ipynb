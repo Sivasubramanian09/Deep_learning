{
 "cells": [
  {
   "cell_type": "code",
   "execution_count": 1,
   "id": "d45ecb02-d6e8-4fe4-a703-7c452fcdcfa7",
   "metadata": {},
   "outputs": [],
   "source": [
    "#Back Propagation using pytorch"
   ]
  },
  {
   "cell_type": "code",
   "execution_count": 4,
   "id": "b28db7a1-4268-4167-8801-9d92480d4f38",
   "metadata": {},
   "outputs": [],
   "source": [
    "#x^n = n*x^n-1, y = x^2"
   ]
  },
  {
   "cell_type": "code",
   "execution_count": 2,
   "id": "8bd0b2e2-4aa1-4a98-8ed1-ec22cc457d08",
   "metadata": {},
   "outputs": [],
   "source": [
    "import torch"
   ]
  },
  {
   "cell_type": "code",
   "execution_count": 4,
   "id": "44a6699f-3426-4842-89ea-53ff19500ac1",
   "metadata": {},
   "outputs": [],
   "source": [
    "x = torch.tensor(4.0, requires_grad=True)"
   ]
  },
  {
   "cell_type": "code",
   "execution_count": 22,
   "id": "9ba0b3d8-42e9-4c8b-80f6-07b5333454b0",
   "metadata": {},
   "outputs": [
    {
     "data": {
      "text/plain": [
       "tensor(16., grad_fn=<PowBackward0>)"
      ]
     },
     "execution_count": 22,
     "metadata": {},
     "output_type": "execute_result"
    }
   ],
   "source": [
    "y=x**2\n",
    "y"
   ]
  },
  {
   "cell_type": "code",
   "execution_count": 23,
   "id": "78bc0118-bad8-4925-b149-2a7fac2713f6",
   "metadata": {},
   "outputs": [],
   "source": [
    "##Back progpogration y=2*x\n",
    "y.backward()"
   ]
  },
  {
   "cell_type": "code",
   "execution_count": 24,
   "id": "b93cf6de-236e-4728-8c4b-5e694c1964e8",
   "metadata": {},
   "outputs": [
    {
     "name": "stdout",
     "output_type": "stream",
     "text": [
      "tensor(16.)\n"
     ]
    }
   ],
   "source": [
    "print(x.grad)"
   ]
  },
  {
   "cell_type": "code",
   "execution_count": 25,
   "id": "9caf8073-e4a1-4cd1-922a-e638a5de54af",
   "metadata": {},
   "outputs": [],
   "source": [
    "list=[[2.,3.,1.],[4.,5.,3.],[7.,6.,4.]]\n",
    "torch_input=torch.tensor(list,requires_grad=True)"
   ]
  },
  {
   "cell_type": "raw",
   "id": "ff8aea37-2e41-4c7d-9cd2-6c1e52e34cf4",
   "metadata": {},
   "source": [
    "torch_input"
   ]
  },
  {
   "cell_type": "code",
   "execution_count": 26,
   "id": "16b569bf-c701-4229-9357-23cf6b11712e",
   "metadata": {},
   "outputs": [],
   "source": [
    "## y=x**3+x**2\n",
    "## y = 3x**2 + 2x\n",
    "y=torch_input**3+torch_input**2"
   ]
  },
  {
   "cell_type": "code",
   "execution_count": 27,
   "id": "ac60c6b3-b664-4d47-a223-51813e21569f",
   "metadata": {},
   "outputs": [
    {
     "data": {
      "text/plain": [
       "tensor([[ 12.,  36.,   2.],\n",
       "        [ 80., 150.,  36.],\n",
       "        [392., 252.,  80.]], grad_fn=<AddBackward0>)"
      ]
     },
     "execution_count": 27,
     "metadata": {},
     "output_type": "execute_result"
    }
   ],
   "source": [
    "y"
   ]
  },
  {
   "cell_type": "code",
   "execution_count": 28,
   "id": "419d3c1c-8d90-4ba7-bb87-9d5203c85c58",
   "metadata": {},
   "outputs": [],
   "source": [
    "z=y.sum()"
   ]
  },
  {
   "cell_type": "code",
   "execution_count": 29,
   "id": "b0197c1d-5525-4fcd-878f-290c63997a5c",
   "metadata": {},
   "outputs": [
    {
     "data": {
      "text/plain": [
       "tensor(1040., grad_fn=<SumBackward0>)"
      ]
     },
     "execution_count": 29,
     "metadata": {},
     "output_type": "execute_result"
    }
   ],
   "source": [
    "z"
   ]
  },
  {
   "cell_type": "code",
   "execution_count": 30,
   "id": "2b61969b-922a-497b-9523-bd47eba09c33",
   "metadata": {},
   "outputs": [],
   "source": [
    "##Back Propgation"
   ]
  },
  {
   "cell_type": "code",
   "execution_count": 31,
   "id": "cca2b055-9ed9-4589-8062-9b5e38e05c14",
   "metadata": {},
   "outputs": [],
   "source": [
    "z.backward()"
   ]
  },
  {
   "cell_type": "code",
   "execution_count": 32,
   "id": "9be4b537-732c-4742-9275-d6256f76e493",
   "metadata": {},
   "outputs": [
    {
     "data": {
      "text/plain": [
       "tensor([[ 16.,  33.,   5.],\n",
       "        [ 56.,  85.,  33.],\n",
       "        [161., 120.,  56.]])"
      ]
     },
     "execution_count": 32,
     "metadata": {},
     "output_type": "execute_result"
    }
   ],
   "source": [
    "torch_input.grad"
   ]
  },
  {
   "cell_type": "code",
   "execution_count": null,
   "id": "7ffddc25-4119-43f8-8bee-ae961d579972",
   "metadata": {},
   "outputs": [],
   "source": []
  }
 ],
 "metadata": {
  "kernelspec": {
   "display_name": "Python 3 (ipykernel)",
   "language": "python",
   "name": "python3"
  },
  "language_info": {
   "codemirror_mode": {
    "name": "ipython",
    "version": 3
   },
   "file_extension": ".py",
   "mimetype": "text/x-python",
   "name": "python",
   "nbconvert_exporter": "python",
   "pygments_lexer": "ipython3",
   "version": "3.11.7"
  }
 },
 "nbformat": 4,
 "nbformat_minor": 5
}
