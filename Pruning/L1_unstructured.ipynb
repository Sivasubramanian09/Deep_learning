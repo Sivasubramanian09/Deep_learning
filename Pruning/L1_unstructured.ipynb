{
 "cells": [
  {
   "cell_type": "code",
   "execution_count": 2,
   "id": "7c730477-d612-453d-8ad1-5f89480d10c2",
   "metadata": {},
   "outputs": [
    {
     "name": "stdout",
     "output_type": "stream",
     "text": [
      "SimpleNet(\n",
      "  (fc1): Linear(in_features=784, out_features=256, bias=True)\n",
      "  (fc2): Linear(in_features=256, out_features=10, bias=True)\n",
      ")\n",
      "SimpleNet(\n",
      "  (fc1): Linear(in_features=784, out_features=256, bias=True)\n",
      "  (fc2): Linear(in_features=256, out_features=10, bias=True)\n",
      ")\n"
     ]
    }
   ],
   "source": [
    "import torch\n",
    "import torch.nn as nn\n",
    "import torch.nn.utils.prune as prune\n",
    "\n",
    "# Define a simple neural network\n",
    "class SimpleNet(nn.Module):\n",
    "    def __init__(self):\n",
    "        super(SimpleNet, self).__init__()\n",
    "        self.fc1 = nn.Linear(784, 256)\n",
    "        self.fc2 = nn.Linear(256, 10)\n",
    "\n",
    "    def forward(self, x):\n",
    "        x = x.view(-1, 784)\n",
    "        x = nn.functional.relu(self.fc1(x))\n",
    "        x = self.fc2(x)\n",
    "        return x\n",
    "\n",
    "# Instantiate the network\n",
    "model = SimpleNet()\n",
    "\n",
    "print(model)\n",
    "\n",
    "# Prune 50% of the least important weights using L1 unstructured pruning\n",
    "prune.l1_unstructured(model.fc1, name='weight', amount=0.5)\n",
    "\n",
    "# Print the pruned model\n",
    "print(model)\n"
   ]
  },
  {
   "cell_type": "code",
   "execution_count": 3,
   "id": "bf7ad474-0bd9-4f9c-8576-8a43bdf5e98a",
   "metadata": {},
   "outputs": [
    {
     "name": "stdout",
     "output_type": "stream",
     "text": [
      "Original fc1 weights:\n",
      "Parameter containing:\n",
      "tensor([[ 0.0306,  0.0144, -0.0098,  ..., -0.0232,  0.0084,  0.0219],\n",
      "        [-0.0233, -0.0188,  0.0111,  ...,  0.0064, -0.0206, -0.0240],\n",
      "        [-0.0029,  0.0309, -0.0051,  ..., -0.0107, -0.0347, -0.0334],\n",
      "        ...,\n",
      "        [-0.0320, -0.0025, -0.0303,  ..., -0.0205,  0.0282, -0.0063],\n",
      "        [ 0.0336, -0.0263, -0.0099,  ...,  0.0284, -0.0141,  0.0183],\n",
      "        [-0.0332,  0.0251, -0.0228,  ..., -0.0008,  0.0179, -0.0084]],\n",
      "       requires_grad=True)\n",
      "Pruned fc1 weights:\n",
      "tensor([[ 0.0306,  0.0000, -0.0000,  ..., -0.0232,  0.0000,  0.0219],\n",
      "        [-0.0233, -0.0188,  0.0000,  ...,  0.0000, -0.0206, -0.0240],\n",
      "        [-0.0000,  0.0309, -0.0000,  ..., -0.0000, -0.0347, -0.0334],\n",
      "        ...,\n",
      "        [-0.0320, -0.0000, -0.0303,  ..., -0.0205,  0.0282, -0.0000],\n",
      "        [ 0.0336, -0.0263, -0.0000,  ...,  0.0284, -0.0000,  0.0183],\n",
      "        [-0.0332,  0.0251, -0.0228,  ..., -0.0000,  0.0179, -0.0000]],\n",
      "       grad_fn=<MulBackward0>)\n",
      "fc1 weight mask:\n",
      "tensor([[1., 0., 0.,  ..., 1., 0., 1.],\n",
      "        [1., 1., 0.,  ..., 0., 1., 1.],\n",
      "        [0., 1., 0.,  ..., 0., 1., 1.],\n",
      "        ...,\n",
      "        [1., 0., 1.,  ..., 1., 1., 0.],\n",
      "        [1., 1., 0.,  ..., 1., 0., 1.],\n",
      "        [1., 1., 1.,  ..., 0., 1., 0.]])\n"
     ]
    }
   ],
   "source": [
    "import torch\n",
    "import torch.nn as nn\n",
    "import torch.nn.utils.prune as prune\n",
    "\n",
    "# Define a simple neural network\n",
    "class SimpleNet(nn.Module):\n",
    "    def __init__(self):\n",
    "        super(SimpleNet, self).__init__()\n",
    "        self.fc1 = nn.Linear(784, 256)\n",
    "        self.fc2 = nn.Linear(256, 10)\n",
    "\n",
    "    def forward(self, x):\n",
    "        x = x.view(-1, 784)\n",
    "        x = nn.functional.relu(self.fc1(x))\n",
    "        x = self.fc2(x)\n",
    "        return x\n",
    "\n",
    "# Instantiate the network\n",
    "model = SimpleNet()\n",
    "\n",
    "# Print original weights\n",
    "print(\"Original fc1 weights:\")\n",
    "print(model.fc1.weight)\n",
    "\n",
    "# Prune 50% of the least important weights using L1 unstructured pruning\n",
    "prune.l1_unstructured(model.fc1, name='weight', amount=0.5)\n",
    "\n",
    "# Print the pruned weights\n",
    "print(\"Pruned fc1 weights:\")\n",
    "print(model.fc1.weight)\n",
    "\n",
    "# Check which weights are masked (pruned)\n",
    "print(\"fc1 weight mask:\")\n",
    "print(model.fc1.weight_mask)\n"
   ]
  },
  {
   "cell_type": "code",
   "execution_count": null,
   "id": "1179aa2b-76d2-4994-a1aa-41136baeeb46",
   "metadata": {},
   "outputs": [],
   "source": []
  }
 ],
 "metadata": {
  "kernelspec": {
   "display_name": "Python 3 (ipykernel)",
   "language": "python",
   "name": "python3"
  },
  "language_info": {
   "codemirror_mode": {
    "name": "ipython",
    "version": 3
   },
   "file_extension": ".py",
   "mimetype": "text/x-python",
   "name": "python",
   "nbconvert_exporter": "python",
   "pygments_lexer": "ipython3",
   "version": "3.11.7"
  }
 },
 "nbformat": 4,
 "nbformat_minor": 5
}
