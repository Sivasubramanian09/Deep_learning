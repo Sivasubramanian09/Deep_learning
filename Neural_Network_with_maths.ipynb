{
 "cells": [
  {
   "cell_type": "code",
   "execution_count": 1,
   "id": "d81d35c0",
   "metadata": {},
   "outputs": [],
   "source": [
    "import numpy as np\n",
    "import pandas as pd\n",
    "import matplotlib.pyplot as plt"
   ]
  },
  {
   "cell_type": "code",
   "execution_count": 20,
   "id": "b56b6fdf",
   "metadata": {},
   "outputs": [],
   "source": [
    "data = pd.read_csv(\"train.csv\")"
   ]
  },
  {
   "cell_type": "code",
   "execution_count": 29,
   "id": "b97101e8",
   "metadata": {},
   "outputs": [
    {
     "data": {
      "text/plain": [
       "(42000, 785)"
      ]
     },
     "execution_count": 29,
     "metadata": {},
     "output_type": "execute_result"
    }
   ],
   "source": [
    "data.shape"
   ]
  },
  {
   "cell_type": "code",
   "execution_count": 30,
   "id": "4a086376",
   "metadata": {},
   "outputs": [],
   "source": [
    "data = np.array(data)"
   ]
  },
  {
   "cell_type": "code",
   "execution_count": 31,
   "id": "aaae2f85",
   "metadata": {},
   "outputs": [
    {
     "name": "stdout",
     "output_type": "stream",
     "text": [
      "42000\n",
      "785\n"
     ]
    }
   ],
   "source": [
    "m, n = data.shape\n",
    "print(m)\n",
    "print(n)"
   ]
  },
  {
   "cell_type": "code",
   "execution_count": 32,
   "id": "ebcf436d",
   "metadata": {},
   "outputs": [],
   "source": [
    "# np.random.shuffle(data)\n",
    "# data"
   ]
  },
  {
   "cell_type": "code",
   "execution_count": 35,
   "id": "04eab0fe",
   "metadata": {},
   "outputs": [],
   "source": [
    "np.random.shuffle(data) # shuffle before splitting into dev and training sets\n",
    "\n",
    "data_dev = data[0:1000].T\n",
    "Y_dev = data_dev[0]\n",
    "X_dev = data_dev[1:n]\n",
    "X_dev = X_dev / 255.\n",
    "\n",
    "data_train = data[1000:m].T\n",
    "Y_train = data_train[0]\n",
    "X_train = data_train[1:n]\n",
    "X_train = X_train / 255.\n",
    "_,m_train = X_train.shape"
   ]
  },
  {
   "cell_type": "code",
   "execution_count": 36,
   "id": "d6d9f5df",
   "metadata": {},
   "outputs": [
    {
     "data": {
      "text/plain": [
       "array([8, 3, 5, ..., 2, 8, 0])"
      ]
     },
     "execution_count": 36,
     "metadata": {},
     "output_type": "execute_result"
    }
   ],
   "source": [
    "Y_train"
   ]
  },
  {
   "cell_type": "code",
   "execution_count": 37,
   "id": "f70e80a7",
   "metadata": {},
   "outputs": [],
   "source": [
    "# print(X_train.shape)\n",
    "# Y_train.shape"
   ]
  },
  {
   "cell_type": "code",
   "execution_count": 38,
   "id": "3a83eb21",
   "metadata": {},
   "outputs": [],
   "source": [
    "def init_params():\n",
    "    W1 = np.random.rand(10, 784) - 0.5\n",
    "    b1 = np.random.rand(10, 1) - 0.5\n",
    "    W2 = np.random.rand(10, 10) - 0.5\n",
    "    b2 = np.random.rand(10, 1) - 0.5\n",
    "    return W1, b1, W2, b2\n",
    "\n",
    "def ReLU(Z):\n",
    "    return np.maximum(Z, 0)\n",
    "\n",
    "def softmax(Z):\n",
    "    A = np.exp(Z) / sum(np.exp(Z))\n",
    "    return A\n",
    "    \n",
    "def forward_prop(W1, b1, W2, b2, X):\n",
    "    Z1 = W1.dot(X) + b1\n",
    "    A1 = ReLU(Z1)\n",
    "    Z2 = W2.dot(A1) + b2\n",
    "    A2 = softmax(Z2)\n",
    "    return Z1, A1, Z2, A2\n",
    "\n",
    "def ReLU_deriv(Z):\n",
    "    return Z > 0\n",
    "\n",
    "def one_hot(Y):\n",
    "    one_hot_Y = np.zeros((Y.size, Y.max() + 1))\n",
    "    one_hot_Y[np.arange(Y.size), Y] = 1\n",
    "    one_hot_Y = one_hot_Y.T\n",
    "    return one_hot_Y\n",
    "\n",
    "def backward_prop(Z1, A1, Z2, A2, W1, W2, X, Y):\n",
    "    one_hot_Y = one_hot(Y)\n",
    "    dZ2 = A2 - one_hot_Y\n",
    "    dW2 = 1 / m * dZ2.dot(A1.T)\n",
    "    db2 = 1 / m * np.sum(dZ2)\n",
    "    dZ1 = W2.T.dot(dZ2) * ReLU_deriv(Z1)\n",
    "    dW1 = 1 / m * dZ1.dot(X.T)\n",
    "    db1 = 1 / m * np.sum(dZ1)\n",
    "    return dW1, db1, dW2, db2\n",
    "\n",
    "def update_params(W1, b1, W2, b2, dW1, db1, dW2, db2, alpha):\n",
    "    W1 = W1 - alpha * dW1\n",
    "    b1 = b1 - alpha * db1    \n",
    "    W2 = W2 - alpha * dW2  \n",
    "    b2 = b2 - alpha * db2    \n",
    "    return W1, b1, W2, b2"
   ]
  },
  {
   "cell_type": "code",
   "execution_count": 39,
   "id": "162b48f2",
   "metadata": {},
   "outputs": [],
   "source": [
    "def get_predictions(A2):\n",
    "    return np.argmax(A2, 0)\n",
    "\n",
    "def get_accuracy(predictions, Y):\n",
    "    print(predictions, Y)\n",
    "    return np.sum(predictions == Y) / Y.size\n",
    "\n",
    "def gradient_descent(X, Y, alpha, iterations):\n",
    "    W1, b1, W2, b2 = init_params()\n",
    "    for i in range(iterations):\n",
    "        Z1, A1, Z2, A2 = forward_prop(W1, b1, W2, b2, X)\n",
    "        dW1, db1, dW2, db2 = backward_prop(Z1, A1, Z2, A2, W1, W2, X, Y)\n",
    "        W1, b1, W2, b2 = update_params(W1, b1, W2, b2, dW1, db1, dW2, db2, alpha)\n",
    "        if i % 10 == 0:\n",
    "            print(\"Iteration: \", i)\n",
    "            predictions = get_predictions(A2)\n",
    "            print(get_accuracy(predictions, Y))\n",
    "    return W1, b1, W2, b2"
   ]
  },
  {
   "cell_type": "code",
   "execution_count": null,
   "id": "c08bd96c",
   "metadata": {
    "scrolled": true
   },
   "outputs": [
    {
     "name": "stdout",
     "output_type": "stream",
     "text": [
      "Iteration:  0\n",
      "[4 3 4 ... 2 2 2] [8 3 5 ... 2 8 0]\n",
      "0.1365609756097561\n",
      "Iteration:  10\n",
      "[0 3 4 ... 0 3 0] [8 3 5 ... 2 8 0]\n",
      "0.19514634146341464\n",
      "Iteration:  20\n",
      "[0 3 8 ... 7 3 0] [8 3 5 ... 2 8 0]\n",
      "0.24707317073170731\n",
      "Iteration:  30\n",
      "[0 3 8 ... 7 3 0] [8 3 5 ... 2 8 0]\n",
      "0.31546341463414634\n",
      "Iteration:  40\n",
      "[0 0 8 ... 7 8 0] [8 3 5 ... 2 8 0]\n",
      "0.3675609756097561\n",
      "Iteration:  50\n",
      "[0 0 4 ... 7 1 0] [8 3 5 ... 2 8 0]\n",
      "0.43346341463414634\n",
      "Iteration:  60\n",
      "[0 0 4 ... 7 8 0] [8 3 5 ... 2 8 0]\n",
      "0.49546341463414634\n",
      "Iteration:  70\n",
      "[0 0 4 ... 7 8 0] [8 3 5 ... 2 8 0]\n",
      "0.548609756097561\n",
      "Iteration:  80\n",
      "[0 0 4 ... 7 8 0] [8 3 5 ... 2 8 0]\n",
      "0.5898048780487805\n",
      "Iteration:  90\n",
      "[0 0 5 ... 7 8 0] [8 3 5 ... 2 8 0]\n",
      "0.6222682926829268\n",
      "Iteration:  100\n",
      "[0 0 5 ... 7 8 0] [8 3 5 ... 2 8 0]\n",
      "0.6512926829268293\n",
      "Iteration:  110\n",
      "[8 0 5 ... 7 8 0] [8 3 5 ... 2 8 0]\n",
      "0.6756829268292683\n",
      "Iteration:  120\n",
      "[8 0 5 ... 7 8 0] [8 3 5 ... 2 8 0]\n",
      "0.6969024390243902\n",
      "Iteration:  130\n",
      "[8 0 5 ... 7 8 0] [8 3 5 ... 2 8 0]\n",
      "0.7128780487804878\n",
      "Iteration:  140\n",
      "[8 3 5 ... 7 8 0] [8 3 5 ... 2 8 0]\n",
      "0.7270487804878049\n",
      "Iteration:  150\n",
      "[8 3 5 ... 7 8 0] [8 3 5 ... 2 8 0]\n",
      "0.74\n",
      "Iteration:  160\n",
      "[8 3 5 ... 7 8 0] [8 3 5 ... 2 8 0]\n",
      "0.7522439024390244\n",
      "Iteration:  170\n",
      "[8 3 5 ... 7 8 0] [8 3 5 ... 2 8 0]\n",
      "0.7615365853658537\n",
      "Iteration:  180\n",
      "[8 3 5 ... 7 8 7] [8 3 5 ... 2 8 0]\n",
      "0.7696341463414634\n",
      "Iteration:  190\n",
      "[8 3 5 ... 7 8 7] [8 3 5 ... 2 8 0]\n",
      "0.7770975609756098\n",
      "Iteration:  200\n",
      "[8 3 5 ... 7 8 7] [8 3 5 ... 2 8 0]\n",
      "0.7845121951219513\n",
      "Iteration:  210\n",
      "[8 3 5 ... 7 8 7] [8 3 5 ... 2 8 0]\n",
      "0.7905365853658537\n",
      "Iteration:  220\n",
      "[8 3 5 ... 7 8 7] [8 3 5 ... 2 8 0]\n",
      "0.7964146341463415\n",
      "Iteration:  230\n",
      "[8 3 5 ... 7 8 7] [8 3 5 ... 2 8 0]\n",
      "0.801\n",
      "Iteration:  240\n",
      "[8 3 5 ... 7 8 7] [8 3 5 ... 2 8 0]\n",
      "0.8059756097560976\n",
      "Iteration:  250\n",
      "[8 3 5 ... 7 8 7] [8 3 5 ... 2 8 0]\n",
      "0.8101707317073171\n",
      "Iteration:  260\n",
      "[8 3 5 ... 7 8 7] [8 3 5 ... 2 8 0]\n",
      "0.8143414634146341\n",
      "Iteration:  270\n",
      "[8 3 5 ... 7 8 7] [8 3 5 ... 2 8 0]\n",
      "0.8176341463414634\n",
      "Iteration:  280\n",
      "[8 3 5 ... 7 8 7] [8 3 5 ... 2 8 0]\n",
      "0.8199756097560975\n",
      "Iteration:  290\n",
      "[8 3 5 ... 7 8 7] [8 3 5 ... 2 8 0]\n",
      "0.8229024390243902\n",
      "Iteration:  300\n",
      "[8 3 5 ... 7 8 7] [8 3 5 ... 2 8 0]\n",
      "0.8255853658536585\n",
      "Iteration:  310\n",
      "[8 3 5 ... 7 8 7] [8 3 5 ... 2 8 0]\n",
      "0.8284390243902439\n",
      "Iteration:  320\n",
      "[8 3 5 ... 7 8 7] [8 3 5 ... 2 8 0]\n",
      "0.8307560975609756\n",
      "Iteration:  330\n",
      "[8 3 5 ... 7 8 7] [8 3 5 ... 2 8 0]\n",
      "0.8328292682926829\n",
      "Iteration:  340\n",
      "[8 3 5 ... 7 8 7] [8 3 5 ... 2 8 0]\n",
      "0.835\n",
      "Iteration:  350\n",
      "[8 3 5 ... 7 8 7] [8 3 5 ... 2 8 0]\n",
      "0.8376097560975609\n",
      "Iteration:  360\n",
      "[8 3 5 ... 7 8 7] [8 3 5 ... 2 8 0]\n",
      "0.8393414634146341\n",
      "Iteration:  370\n",
      "[8 3 5 ... 7 8 7] [8 3 5 ... 2 8 0]\n",
      "0.8410487804878048\n",
      "Iteration:  380\n",
      "[8 3 5 ... 7 8 7] [8 3 5 ... 2 8 0]\n",
      "0.8427317073170731\n",
      "Iteration:  390\n",
      "[8 3 5 ... 7 8 7] [8 3 5 ... 2 8 0]\n",
      "0.8441219512195122\n",
      "Iteration:  400\n",
      "[8 3 5 ... 7 8 7] [8 3 5 ... 2 8 0]\n",
      "0.8456585365853658\n",
      "Iteration:  410\n",
      "[8 3 5 ... 7 8 7] [8 3 5 ... 2 8 0]\n",
      "0.8472195121951219\n",
      "Iteration:  420\n",
      "[8 3 5 ... 7 8 7] [8 3 5 ... 2 8 0]\n",
      "0.8484634146341463\n",
      "Iteration:  430\n",
      "[8 3 5 ... 7 8 7] [8 3 5 ... 2 8 0]\n",
      "0.8496585365853658\n",
      "Iteration:  440\n",
      "[8 3 5 ... 2 8 7] [8 3 5 ... 2 8 0]\n",
      "0.8508048780487805\n",
      "Iteration:  450\n",
      "[8 3 5 ... 2 8 7] [8 3 5 ... 2 8 0]\n",
      "0.8524634146341463\n",
      "Iteration:  460\n",
      "[8 3 5 ... 2 8 7] [8 3 5 ... 2 8 0]\n",
      "0.8537317073170732\n",
      "Iteration:  470\n",
      "[8 3 5 ... 2 8 7] [8 3 5 ... 2 8 0]\n",
      "0.8552682926829268\n"
     ]
    }
   ],
   "source": [
    "W1, b1, W2, b2 = gradient_descent(X_train, Y_train, 0.10, 500)"
   ]
  },
  {
   "cell_type": "code",
   "execution_count": 17,
   "id": "30d36fa5",
   "metadata": {},
   "outputs": [],
   "source": [
    "def make_predictions(X, W1, b1, W2, b2):\n",
    "    _, _, _, A2 = forward_prop(W1, b1, W2, b2, X)\n",
    "    predictions = get_predictions(A2)\n",
    "    return predictions\n",
    "\n",
    "def test_prediction(index, W1, b1, W2, b2):\n",
    "    current_image = X_train[:, index, None]\n",
    "    prediction = make_predictions(X_train[:, index, None], W1, b1, W2, b2)\n",
    "    label = Y_train[index]\n",
    "    print(\"Prediction: \", prediction)\n",
    "    print(\"Label: \", label)\n",
    "    \n",
    "    current_image = current_image.reshape((28, 28)) * 255\n",
    "    plt.gray()\n",
    "    plt.imshow(current_image, interpolation='nearest')\n",
    "    plt.show()"
   ]
  },
  {
   "cell_type": "code",
   "execution_count": 230,
   "id": "293931a2",
   "metadata": {},
   "outputs": [
    {
     "name": "stdout",
     "output_type": "stream",
     "text": [
      "Precitions:  [0]\n",
      "Label:  9\n"
     ]
    },
    {
     "data": {
      "image/png": "[encoded data removed]",
      "text/plain": [
       "<Figure size 640x480 with 1 Axes>"
      ]
     },
     "metadata": {},
     "output_type": "display_data"
    }
   ],
   "source": [
    "test_prediction(0,W1, b1, W2, b2)"
   ]
  },
  {
   "cell_type": "code",
   "execution_count": null,
   "id": "ea8888fd",
   "metadata": {},
   "outputs": [],
   "source": []
  },
  {
   "cell_type": "code",
   "execution_count": null,
   "id": "4401916f",
   "metadata": {},
   "outputs": [],
   "source": []
  }
 ],
 "metadata": {
  "kernelspec": {
   "display_name": "Python 3 (ipykernel)",
   "language": "python",
   "name": "python3"
  },
  "language_info": {
   "codemirror_mode": {
    "name": "ipython",
    "version": 3
   },
   "file_extension": ".py",
   "mimetype": "text/x-python",
   "name": "python",
   "nbconvert_exporter": "python",
   "pygments_lexer": "ipython3",
   "version": "3.8.10"
  }
 },
 "nbformat": 4,
 "nbformat_minor": 5
}
